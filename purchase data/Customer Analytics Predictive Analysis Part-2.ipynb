{
 "cells": [
  {
   "cell_type": "markdown",
   "metadata": {},
   "source": [
    "# Libraries and previous code"
   ]
  },
  {
   "cell_type": "code",
   "execution_count": 1,
   "metadata": {},
   "outputs": [],
   "source": [
    "import pandas as pd\n",
    "import numpy as np\n",
    "\n",
    "from sklearn.preprocessing import StandardScaler\n",
    "from sklearn.decomposition import PCA\n",
    "from sklearn.cluster import KMeans\n",
    "\n",
    "import pickle\n",
    "\n",
    "import matplotlib.pyplot as plt\n",
    "import seaborn as sns\n",
    "sns.set()\n",
    "\n",
    "from sklearn.linear_model import LogisticRegression\n",
    "from sklearn.linear_model import LinearRegression\n",
    "import matplotlib.axes as axs"
   ]
  },
  {
   "cell_type": "code",
   "execution_count": 2,
   "metadata": {},
   "outputs": [],
   "source": [
    "df_purchase = pd.read_csv(\"purchase data.csv\")\n",
    "\n",
    "scaler = pickle.load(open('scaler.pickle', 'rb'))\n",
    "\n",
    "pca = pickle.load(open('pca.pickle', 'rb'))\n",
    "\n",
    "kmeans_pca = pickle.load(open('kmeans_pca.pickle', 'rb'))"
   ]
  },
  {
   "cell_type": "code",
   "execution_count": 3,
   "metadata": {},
   "outputs": [],
   "source": [
    "features = df_purchase[['Sex', 'Marital status', 'Age', 'Education', 'Income', 'Occupation', 'Settlement size']]\n",
    "# transforming the new feature data \n",
    "df_purchase_segm_std = scaler.transform(features)\n",
    "\n",
    "# using PCA model from before\n",
    "df_purchase_segm_pca = pca.transform(df_purchase_segm_std)\n",
    "purchase_segm_kmeans_pca = kmeans_pca.predict(df_purchase_segm_pca)\n",
    "df_purchase_predictors = df_purchase.copy()\n",
    "df_purchase_predictors['Segment'] = purchase_segm_kmeans_pca\n",
    "\n",
    "segment_dummies = pd.get_dummies(purchase_segm_kmeans_pca, prefix = 'Segment', prefix_sep = '_')\n",
    "df_purchase_predictors = pd.concat([df_purchase_predictors, segment_dummies], axis = 1)\n",
    "\n",
    "df_pa = df_purchase_predictors"
   ]
  },
  {
   "cell_type": "markdown",
   "metadata": {},
   "source": [
    "# Price Elasticity of Purchase Quantity"
   ]
  },
  {
   "cell_type": "code",
   "execution_count": 4,
   "metadata": {},
   "outputs": [
    {
     "data": {
      "text/html": [
       "<div>\n",
       "<style scoped>\n",
       "    .dataframe tbody tr th:only-of-type {\n",
       "        vertical-align: middle;\n",
       "    }\n",
       "\n",
       "    .dataframe tbody tr th {\n",
       "        vertical-align: top;\n",
       "    }\n",
       "\n",
       "    .dataframe thead th {\n",
       "        text-align: right;\n",
       "    }\n",
       "</style>\n",
       "<table border=\"1\" class=\"dataframe\">\n",
       "  <thead>\n",
       "    <tr style=\"text-align: right;\">\n",
       "      <th></th>\n",
       "      <th>ID</th>\n",
       "      <th>Day</th>\n",
       "      <th>Incidence</th>\n",
       "      <th>Brand</th>\n",
       "      <th>Quantity</th>\n",
       "      <th>Last_Inc_Brand</th>\n",
       "      <th>Last_Inc_Quantity</th>\n",
       "      <th>Price_1</th>\n",
       "      <th>Price_2</th>\n",
       "      <th>Price_3</th>\n",
       "      <th>...</th>\n",
       "      <th>Age</th>\n",
       "      <th>Education</th>\n",
       "      <th>Income</th>\n",
       "      <th>Occupation</th>\n",
       "      <th>Settlement size</th>\n",
       "      <th>Segment</th>\n",
       "      <th>Segment_0</th>\n",
       "      <th>Segment_1</th>\n",
       "      <th>Segment_2</th>\n",
       "      <th>Segment_3</th>\n",
       "    </tr>\n",
       "  </thead>\n",
       "  <tbody>\n",
       "    <tr>\n",
       "      <th>6</th>\n",
       "      <td>200000001</td>\n",
       "      <td>28</td>\n",
       "      <td>1</td>\n",
       "      <td>2</td>\n",
       "      <td>2</td>\n",
       "      <td>0</td>\n",
       "      <td>0</td>\n",
       "      <td>1.50</td>\n",
       "      <td>1.90</td>\n",
       "      <td>1.99</td>\n",
       "      <td>...</td>\n",
       "      <td>47</td>\n",
       "      <td>1</td>\n",
       "      <td>110866</td>\n",
       "      <td>1</td>\n",
       "      <td>0</td>\n",
       "      <td>3</td>\n",
       "      <td>0</td>\n",
       "      <td>0</td>\n",
       "      <td>0</td>\n",
       "      <td>1</td>\n",
       "    </tr>\n",
       "    <tr>\n",
       "      <th>11</th>\n",
       "      <td>200000001</td>\n",
       "      <td>58</td>\n",
       "      <td>1</td>\n",
       "      <td>5</td>\n",
       "      <td>1</td>\n",
       "      <td>0</td>\n",
       "      <td>0</td>\n",
       "      <td>1.39</td>\n",
       "      <td>1.90</td>\n",
       "      <td>1.91</td>\n",
       "      <td>...</td>\n",
       "      <td>47</td>\n",
       "      <td>1</td>\n",
       "      <td>110866</td>\n",
       "      <td>1</td>\n",
       "      <td>0</td>\n",
       "      <td>3</td>\n",
       "      <td>0</td>\n",
       "      <td>0</td>\n",
       "      <td>0</td>\n",
       "      <td>1</td>\n",
       "    </tr>\n",
       "    <tr>\n",
       "      <th>19</th>\n",
       "      <td>200000001</td>\n",
       "      <td>110</td>\n",
       "      <td>1</td>\n",
       "      <td>1</td>\n",
       "      <td>2</td>\n",
       "      <td>0</td>\n",
       "      <td>0</td>\n",
       "      <td>1.47</td>\n",
       "      <td>1.90</td>\n",
       "      <td>1.99</td>\n",
       "      <td>...</td>\n",
       "      <td>47</td>\n",
       "      <td>1</td>\n",
       "      <td>110866</td>\n",
       "      <td>1</td>\n",
       "      <td>0</td>\n",
       "      <td>3</td>\n",
       "      <td>0</td>\n",
       "      <td>0</td>\n",
       "      <td>0</td>\n",
       "      <td>1</td>\n",
       "    </tr>\n",
       "    <tr>\n",
       "      <th>24</th>\n",
       "      <td>200000001</td>\n",
       "      <td>142</td>\n",
       "      <td>1</td>\n",
       "      <td>4</td>\n",
       "      <td>1</td>\n",
       "      <td>0</td>\n",
       "      <td>0</td>\n",
       "      <td>1.21</td>\n",
       "      <td>1.35</td>\n",
       "      <td>1.99</td>\n",
       "      <td>...</td>\n",
       "      <td>47</td>\n",
       "      <td>1</td>\n",
       "      <td>110866</td>\n",
       "      <td>1</td>\n",
       "      <td>0</td>\n",
       "      <td>3</td>\n",
       "      <td>0</td>\n",
       "      <td>0</td>\n",
       "      <td>0</td>\n",
       "      <td>1</td>\n",
       "    </tr>\n",
       "    <tr>\n",
       "      <th>29</th>\n",
       "      <td>200000001</td>\n",
       "      <td>183</td>\n",
       "      <td>1</td>\n",
       "      <td>2</td>\n",
       "      <td>3</td>\n",
       "      <td>0</td>\n",
       "      <td>0</td>\n",
       "      <td>1.46</td>\n",
       "      <td>1.88</td>\n",
       "      <td>1.97</td>\n",
       "      <td>...</td>\n",
       "      <td>47</td>\n",
       "      <td>1</td>\n",
       "      <td>110866</td>\n",
       "      <td>1</td>\n",
       "      <td>0</td>\n",
       "      <td>3</td>\n",
       "      <td>0</td>\n",
       "      <td>0</td>\n",
       "      <td>0</td>\n",
       "      <td>1</td>\n",
       "    </tr>\n",
       "    <tr>\n",
       "      <th>...</th>\n",
       "      <td>...</td>\n",
       "      <td>...</td>\n",
       "      <td>...</td>\n",
       "      <td>...</td>\n",
       "      <td>...</td>\n",
       "      <td>...</td>\n",
       "      <td>...</td>\n",
       "      <td>...</td>\n",
       "      <td>...</td>\n",
       "      <td>...</td>\n",
       "      <td>...</td>\n",
       "      <td>...</td>\n",
       "      <td>...</td>\n",
       "      <td>...</td>\n",
       "      <td>...</td>\n",
       "      <td>...</td>\n",
       "      <td>...</td>\n",
       "      <td>...</td>\n",
       "      <td>...</td>\n",
       "      <td>...</td>\n",
       "      <td>...</td>\n",
       "    </tr>\n",
       "    <tr>\n",
       "      <th>58621</th>\n",
       "      <td>200000500</td>\n",
       "      <td>296</td>\n",
       "      <td>1</td>\n",
       "      <td>2</td>\n",
       "      <td>6</td>\n",
       "      <td>0</td>\n",
       "      <td>0</td>\n",
       "      <td>1.48</td>\n",
       "      <td>1.89</td>\n",
       "      <td>2.01</td>\n",
       "      <td>...</td>\n",
       "      <td>42</td>\n",
       "      <td>1</td>\n",
       "      <td>120946</td>\n",
       "      <td>1</td>\n",
       "      <td>0</td>\n",
       "      <td>3</td>\n",
       "      <td>0</td>\n",
       "      <td>0</td>\n",
       "      <td>0</td>\n",
       "      <td>1</td>\n",
       "    </tr>\n",
       "    <tr>\n",
       "      <th>58648</th>\n",
       "      <td>200000500</td>\n",
       "      <td>460</td>\n",
       "      <td>1</td>\n",
       "      <td>1</td>\n",
       "      <td>12</td>\n",
       "      <td>0</td>\n",
       "      <td>0</td>\n",
       "      <td>1.35</td>\n",
       "      <td>1.57</td>\n",
       "      <td>2.02</td>\n",
       "      <td>...</td>\n",
       "      <td>42</td>\n",
       "      <td>1</td>\n",
       "      <td>120946</td>\n",
       "      <td>1</td>\n",
       "      <td>0</td>\n",
       "      <td>3</td>\n",
       "      <td>0</td>\n",
       "      <td>0</td>\n",
       "      <td>0</td>\n",
       "      <td>1</td>\n",
       "    </tr>\n",
       "    <tr>\n",
       "      <th>58674</th>\n",
       "      <td>200000500</td>\n",
       "      <td>641</td>\n",
       "      <td>1</td>\n",
       "      <td>2</td>\n",
       "      <td>7</td>\n",
       "      <td>0</td>\n",
       "      <td>0</td>\n",
       "      <td>1.50</td>\n",
       "      <td>1.85</td>\n",
       "      <td>2.06</td>\n",
       "      <td>...</td>\n",
       "      <td>42</td>\n",
       "      <td>1</td>\n",
       "      <td>120946</td>\n",
       "      <td>1</td>\n",
       "      <td>0</td>\n",
       "      <td>3</td>\n",
       "      <td>0</td>\n",
       "      <td>0</td>\n",
       "      <td>0</td>\n",
       "      <td>1</td>\n",
       "    </tr>\n",
       "    <tr>\n",
       "      <th>58687</th>\n",
       "      <td>200000500</td>\n",
       "      <td>697</td>\n",
       "      <td>1</td>\n",
       "      <td>2</td>\n",
       "      <td>6</td>\n",
       "      <td>0</td>\n",
       "      <td>0</td>\n",
       "      <td>1.42</td>\n",
       "      <td>1.51</td>\n",
       "      <td>1.97</td>\n",
       "      <td>...</td>\n",
       "      <td>42</td>\n",
       "      <td>1</td>\n",
       "      <td>120946</td>\n",
       "      <td>1</td>\n",
       "      <td>0</td>\n",
       "      <td>3</td>\n",
       "      <td>0</td>\n",
       "      <td>0</td>\n",
       "      <td>0</td>\n",
       "      <td>1</td>\n",
       "    </tr>\n",
       "    <tr>\n",
       "      <th>58691</th>\n",
       "      <td>200000500</td>\n",
       "      <td>722</td>\n",
       "      <td>1</td>\n",
       "      <td>2</td>\n",
       "      <td>3</td>\n",
       "      <td>0</td>\n",
       "      <td>0</td>\n",
       "      <td>1.51</td>\n",
       "      <td>1.82</td>\n",
       "      <td>2.09</td>\n",
       "      <td>...</td>\n",
       "      <td>42</td>\n",
       "      <td>1</td>\n",
       "      <td>120946</td>\n",
       "      <td>1</td>\n",
       "      <td>0</td>\n",
       "      <td>3</td>\n",
       "      <td>0</td>\n",
       "      <td>0</td>\n",
       "      <td>0</td>\n",
       "      <td>1</td>\n",
       "    </tr>\n",
       "  </tbody>\n",
       "</table>\n",
       "<p>14638 rows × 29 columns</p>\n",
       "</div>"
      ],
      "text/plain": [
       "              ID  Day  Incidence  Brand  Quantity  Last_Inc_Brand  \\\n",
       "6      200000001   28          1      2         2               0   \n",
       "11     200000001   58          1      5         1               0   \n",
       "19     200000001  110          1      1         2               0   \n",
       "24     200000001  142          1      4         1               0   \n",
       "29     200000001  183          1      2         3               0   \n",
       "...          ...  ...        ...    ...       ...             ...   \n",
       "58621  200000500  296          1      2         6               0   \n",
       "58648  200000500  460          1      1        12               0   \n",
       "58674  200000500  641          1      2         7               0   \n",
       "58687  200000500  697          1      2         6               0   \n",
       "58691  200000500  722          1      2         3               0   \n",
       "\n",
       "       Last_Inc_Quantity  Price_1  Price_2  Price_3  ...  Age  Education  \\\n",
       "6                      0     1.50     1.90     1.99  ...   47          1   \n",
       "11                     0     1.39     1.90     1.91  ...   47          1   \n",
       "19                     0     1.47     1.90     1.99  ...   47          1   \n",
       "24                     0     1.21     1.35     1.99  ...   47          1   \n",
       "29                     0     1.46     1.88     1.97  ...   47          1   \n",
       "...                  ...      ...      ...      ...  ...  ...        ...   \n",
       "58621                  0     1.48     1.89     2.01  ...   42          1   \n",
       "58648                  0     1.35     1.57     2.02  ...   42          1   \n",
       "58674                  0     1.50     1.85     2.06  ...   42          1   \n",
       "58687                  0     1.42     1.51     1.97  ...   42          1   \n",
       "58691                  0     1.51     1.82     2.09  ...   42          1   \n",
       "\n",
       "       Income  Occupation  Settlement size  Segment  Segment_0  Segment_1  \\\n",
       "6      110866           1                0        3          0          0   \n",
       "11     110866           1                0        3          0          0   \n",
       "19     110866           1                0        3          0          0   \n",
       "24     110866           1                0        3          0          0   \n",
       "29     110866           1                0        3          0          0   \n",
       "...       ...         ...              ...      ...        ...        ...   \n",
       "58621  120946           1                0        3          0          0   \n",
       "58648  120946           1                0        3          0          0   \n",
       "58674  120946           1                0        3          0          0   \n",
       "58687  120946           1                0        3          0          0   \n",
       "58691  120946           1                0        3          0          0   \n",
       "\n",
       "       Segment_2  Segment_3  \n",
       "6              0          1  \n",
       "11             0          1  \n",
       "19             0          1  \n",
       "24             0          1  \n",
       "29             0          1  \n",
       "...          ...        ...  \n",
       "58621          0          1  \n",
       "58648          0          1  \n",
       "58674          0          1  \n",
       "58687          0          1  \n",
       "58691          0          1  \n",
       "\n",
       "[14638 rows x 29 columns]"
      ]
     },
     "execution_count": 4,
     "metadata": {},
     "output_type": "execute_result"
    }
   ],
   "source": [
    "df_purchase_quantity = df_pa[df_pa['Incidence'] == 1]\n",
    "df_purchase_quantity"
   ]
  },
  {
   "cell_type": "code",
   "execution_count": 5,
   "metadata": {},
   "outputs": [],
   "source": [
    "df_purchase_quantity = pd.get_dummies(df_purchase_quantity, columns = ['Brand'], prefix = 'Brand', prefix_sep = '_')"
   ]
  },
  {
   "cell_type": "code",
   "execution_count": 8,
   "metadata": {},
   "outputs": [
    {
     "data": {
      "text/plain": [
       "array([0, 1], dtype=uint8)"
      ]
     },
     "execution_count": 8,
     "metadata": {},
     "output_type": "execute_result"
    }
   ],
   "source": [
    "df_purchase_quantity['Segment_2']"
   ]
  },
  {
   "cell_type": "code",
   "execution_count": 9,
   "metadata": {},
   "outputs": [],
   "source": [
    "df_purchase_quantity['Price_Incidence'] = (df_purchase_quantity['Brand_1'] * df_purchase_quantity['Price_1']+\n",
    "                                           df_purchase_quantity['Brand_2'] * df_purchase_quantity['Price_2']+\n",
    "                                           df_purchase_quantity['Brand_3'] * df_purchase_quantity['Price_3']+\n",
    "                                           df_purchase_quantity['Brand_4'] * df_purchase_quantity['Price_4']+\n",
    "                                           df_purchase_quantity['Brand_5'] * df_purchase_quantity['Price_5'])"
   ]
  },
  {
   "cell_type": "code",
   "execution_count": 10,
   "metadata": {},
   "outputs": [],
   "source": [
    "df_purchase_quantity['Promotion_Incidence'] = (df_purchase_quantity['Brand_1'] * df_purchase_quantity['Promotion_1']+\n",
    "                                               df_purchase_quantity['Brand_2'] * df_purchase_quantity['Promotion_2']+\n",
    "                                               df_purchase_quantity['Brand_3'] * df_purchase_quantity['Promotion_3']+\n",
    "                                               df_purchase_quantity['Brand_4'] * df_purchase_quantity['Promotion_4']+\n",
    "                                               df_purchase_quantity['Brand_5'] * df_purchase_quantity['Promotion_5'])"
   ]
  },
  {
   "cell_type": "markdown",
   "metadata": {},
   "source": [
    "## Model Estimation and Linear Regression"
   ]
  },
  {
   "cell_type": "code",
   "execution_count": 25,
   "metadata": {},
   "outputs": [],
   "source": [
    "X = df_purchase_quantity[['Price_Incidence', 'Promotion_Incidence']]"
   ]
  },
  {
   "cell_type": "code",
   "execution_count": 26,
   "metadata": {},
   "outputs": [],
   "source": [
    "Y = df_purchase_quantity['Quantity']"
   ]
  },
  {
   "cell_type": "code",
   "execution_count": 27,
   "metadata": {},
   "outputs": [
    {
     "data": {
      "text/plain": [
       "LinearRegression()"
      ]
     },
     "execution_count": 27,
     "metadata": {},
     "output_type": "execute_result"
    }
   ],
   "source": [
    "model_quantity = LinearRegression()\n",
    "model_quantity.fit(X, Y)"
   ]
  },
  {
   "cell_type": "code",
   "execution_count": 28,
   "metadata": {},
   "outputs": [
    {
     "data": {
      "text/plain": [
       "array([-0.8173651 , -0.10504673])"
      ]
     },
     "execution_count": 28,
     "metadata": {},
     "output_type": "execute_result"
    }
   ],
   "source": [
    "model_quantity.coef_"
   ]
  },
  {
   "cell_type": "markdown",
   "metadata": {},
   "source": [
    "## Price Elasticity Estimation"
   ]
  },
  {
   "cell_type": "code",
   "execution_count": 29,
   "metadata": {},
   "outputs": [],
   "source": [
    "price_range = np.arange(0.5, 3.5, 0.01)"
   ]
  },
  {
   "cell_type": "markdown",
   "metadata": {},
   "source": [
    "### With Promotion"
   ]
  },
  {
   "cell_type": "code",
   "execution_count": 30,
   "metadata": {},
   "outputs": [],
   "source": [
    "df_price_elasticity_quantity = pd.DataFrame(index=np.arange(price_range.size))\n",
    "df_price_elasticity_quantity['Price_Incidence'] = price_range\n",
    "df_price_elasticity_quantity['Promotion_Incidence'] = 1"
   ]
  },
  {
   "cell_type": "code",
   "execution_count": 31,
   "metadata": {},
   "outputs": [],
   "source": [
    "beta_quantity = model_quantity.coef_[0]"
   ]
  },
  {
   "cell_type": "code",
   "execution_count": 32,
   "metadata": {},
   "outputs": [],
   "source": [
    "predict_quantity = model_quantity.predict(df_price_elasticity_quantity) "
   ]
  },
  {
   "cell_type": "code",
   "execution_count": 33,
   "metadata": {},
   "outputs": [],
   "source": [
    "price_elasticity_quantity_promotion_yes = beta_quantity * price_range/predict_quantity"
   ]
  },
  {
   "cell_type": "code",
   "execution_count": 34,
   "metadata": {},
   "outputs": [
    {
     "data": {
      "image/png": "[encoded data removed]",
      "text/plain": [
       "<Figure size 648x432 with 1 Axes>"
      ]
     },
     "metadata": {},
     "output_type": "display_data"
    }
   ],
   "source": [
    "plt.figure(figsize=(9,6))\n",
    "plt.plot(price_range, price_elasticity_quantity_promotion_yes)\n",
    "plt.xlabel('Price')\n",
    "plt.ylabel('Elasticity')\n",
    "plt.title('Price Elasticity of Purchase quantity with Promotion')\n",
    "plt.show()"
   ]
  },
  {
   "cell_type": "markdown",
   "metadata": {},
   "source": [
    "### Without Promotion"
   ]
  },
  {
   "cell_type": "code",
   "execution_count": 35,
   "metadata": {},
   "outputs": [],
   "source": [
    "df_price_elasticity_quantity2 = pd.DataFrame(index=np.arange(price_range.size))\n",
    "df_price_elasticity_quantity2['Price_Incidence'] = price_range\n",
    "df_price_elasticity_quantity2['Promotion_Incidence'] = 0"
   ]
  },
  {
   "cell_type": "code",
   "execution_count": 36,
   "metadata": {},
   "outputs": [],
   "source": [
    "predict_quantity_no_promo = model_quantity.predict(df_price_elasticity_quantity2)"
   ]
  },
  {
   "cell_type": "code",
   "execution_count": 37,
   "metadata": {},
   "outputs": [],
   "source": [
    "price_elasticity_quantity_promotion_no = beta_quantity * price_range/predict_quantity_no_promo"
   ]
  },
  {
   "cell_type": "code",
   "execution_count": 38,
   "metadata": {},
   "outputs": [
    {
     "data": {
      "image/png": "[encoded data removed]",
      "text/plain": [
       "<Figure size 648x432 with 1 Axes>"
      ]
     },
     "metadata": {},
     "output_type": "display_data"
    }
   ],
   "source": [
    "plt.figure(figsize=(9,6))\n",
    "plt.plot(price_range, price_elasticity_quantity_promotion_yes, color='orange')\n",
    "plt.plot(price_range, price_elasticity_quantity_promotion_no)\n",
    "plt.xlabel('Price')\n",
    "plt.ylabel('Elasticity')\n",
    "plt.title('Price Elasticity of Purchase quantity with No Promotion')\n",
    "plt.show()"
   ]
  },
  {
   "cell_type": "markdown",
   "metadata": {},
   "source": [
    "## From Career focused group"
   ]
  },
  {
   "cell_type": "code",
   "execution_count": 39,
   "metadata": {},
   "outputs": [],
   "source": [
    "X = df_purchase_quantity[['Price_Incidence', 'Promotion_Incidence','Segment']]"
   ]
  },
  {
   "cell_type": "code",
   "execution_count": 40,
   "metadata": {},
   "outputs": [],
   "source": [
    "Y = df_purchase_quantity['Quantity']"
   ]
  },
  {
   "cell_type": "code",
   "execution_count": 41,
   "metadata": {},
   "outputs": [
    {
     "data": {
      "text/plain": [
       "LinearRegression()"
      ]
     },
     "execution_count": 41,
     "metadata": {},
     "output_type": "execute_result"
    }
   ],
   "source": [
    "model_quantity = LinearRegression()\n",
    "model_quantity.fit(X, Y)"
   ]
  },
  {
   "cell_type": "code",
   "execution_count": 42,
   "metadata": {},
   "outputs": [
    {
     "data": {
      "text/plain": [
       "array([-0.83348663, -0.07038789, -0.1920494 ])"
      ]
     },
     "execution_count": 42,
     "metadata": {},
     "output_type": "execute_result"
    }
   ],
   "source": [
    "model_quantity.coef_"
   ]
  },
  {
   "cell_type": "code",
   "execution_count": 43,
   "metadata": {},
   "outputs": [],
   "source": [
    "df_price_elasticity_quantity = pd.DataFrame(index=np.arange(price_range.size))\n",
    "df_price_elasticity_quantity['Price_Incidence'] = price_range\n",
    "df_price_elasticity_quantity['Promotion_Incidence'] = 1\n",
    "df_price_elasticity_quantity['Segment'] = 2"
   ]
  },
  {
   "cell_type": "code",
   "execution_count": 44,
   "metadata": {},
   "outputs": [],
   "source": [
    "beta_quantity = model_quantity.coef_[0]"
   ]
  },
  {
   "cell_type": "code",
   "execution_count": 45,
   "metadata": {},
   "outputs": [],
   "source": [
    "predict_quantity = model_quantity.predict(df_price_elasticity_quantity) "
   ]
  },
  {
   "cell_type": "code",
   "execution_count": 46,
   "metadata": {},
   "outputs": [],
   "source": [
    "price_elasticity_quantity_promotion_yes_career = beta_quantity * price_range/predict_quantity"
   ]
  },
  {
   "cell_type": "code",
   "execution_count": 47,
   "metadata": {},
   "outputs": [
    {
     "data": {
      "image/png": "[encoded data removed]",
      "text/plain": [
       "<Figure size 648x432 with 1 Axes>"
      ]
     },
     "metadata": {},
     "output_type": "display_data"
    }
   ],
   "source": [
    "plt.figure(figsize=(9,6))\n",
    "plt.plot(price_range, price_elasticity_quantity_promotion_yes, color='orange')\n",
    "plt.plot(price_range, price_elasticity_quantity_promotion_no)\n",
    "plt.plot(price_range, price_elasticity_quantity_promotion_yes_career, color='red')\n",
    "plt.xlabel('Price')\n",
    "plt.ylabel('Elasticity')\n",
    "plt.title('Price Elasticity of Purchase quantity with Promotion by Career Focused Group')\n",
    "plt.show()"
   ]
  },
  {
   "cell_type": "code",
   "execution_count": null,
   "metadata": {},
   "outputs": [],
   "source": []
  },
  {
   "cell_type": "code",
   "execution_count": null,
   "metadata": {},
   "outputs": [],
   "source": []
  },
  {
   "cell_type": "code",
   "execution_count": null,
   "metadata": {},
   "outputs": [],
   "source": []
  },
  {
   "cell_type": "code",
   "execution_count": null,
   "metadata": {},
   "outputs": [],
   "source": []
  },
  {
   "cell_type": "code",
   "execution_count": null,
   "metadata": {},
   "outputs": [],
   "source": []
  }
 ],
 "metadata": {
  "kernelspec": {
   "display_name": "Python 3",
   "language": "python",
   "name": "python3"
  },
  "language_info": {
   "codemirror_mode": {
    "name": "ipython",
    "version": 3
   },
   "file_extension": ".py",
   "mimetype": "text/x-python",
   "name": "python",
   "nbconvert_exporter": "python",
   "pygments_lexer": "ipython3",
   "version": "3.8.3"
  }
 },
 "nbformat": 4,
 "nbformat_minor": 4
}
