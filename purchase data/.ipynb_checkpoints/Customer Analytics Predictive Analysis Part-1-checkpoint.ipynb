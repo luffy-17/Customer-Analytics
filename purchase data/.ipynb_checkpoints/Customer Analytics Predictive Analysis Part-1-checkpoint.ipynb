{
 "cells": [
  {
   "cell_type": "markdown",
   "metadata": {},
   "source": [
    "# Libraries"
   ]
  },
  {
   "cell_type": "code",
   "execution_count": 1,
   "metadata": {},
   "outputs": [],
   "source": [
    "import pandas as pd\n",
    "import numpy as np\n",
    "\n",
    "from sklearn.preprocessing import StandardScaler\n",
    "from sklearn.decomposition import PCA\n",
    "from sklearn.cluster import KMeans\n",
    "\n",
    "import pickle\n",
    "\n",
    "import matplotlib.pyplot as plt\n",
    "import seaborn as sns\n",
    "sns.set()\n",
    "\n",
    "from sklearn.linear_model import LogisticRegression\n",
    "import matplotlib.axes as axs"
   ]
  },
  {
   "cell_type": "markdown",
   "metadata": {},
   "source": [
    "# Data Preparation"
   ]
  },
  {
   "cell_type": "code",
   "execution_count": 2,
   "metadata": {},
   "outputs": [],
   "source": [
    "df_purchase = pd.read_csv(\"purchase data.csv\")\n",
    "\n",
    "scaler = pickle.load(open('C:/my files/programming/data science/customer analytics/segmentation/scaler.pickle', 'rb'))\n",
    "\n",
    "pca = pickle.load(open('C:/my files/programming/data science/customer analytics/segmentation/pca.pickle', 'rb'))\n",
    "\n",
    "kmeans_pca = pickle.load(open('C:/my files/programming/data science/customer analytics/segmentation/kmeans_pca.pickle', 'rb'))"
   ]
  },
  {
   "cell_type": "code",
   "execution_count": 3,
   "metadata": {},
   "outputs": [],
   "source": [
    "features = df_purchase[['Sex', 'Marital status', 'Age', 'Education', 'Income', 'Occupation', 'Settlement size']]\n",
    "# transforming the new feature data \n",
    "df_purchase_segm_std = scaler.transform(features)\n",
    "\n",
    "# using PCA model from before\n",
    "df_purchase_segm_pca = pca.transform(df_purchase_segm_std)\n",
    "purchase_segm_kmeans_pca = kmeans_pca.predict(df_purchase_segm_pca)\n",
    "df_purchase_predictors = df_purchase.copy()\n",
    "df_purchase_predictors['Segment'] = purchase_segm_kmeans_pca\n",
    "\n",
    "segment_dummies = pd.get_dummies(purchase_segm_kmeans_pca, prefix = 'Segment', prefix_sep = '_')\n",
    "df_purchase_predictors = pd.concat([df_purchase_predictors, segment_dummies], axis = 1)\n",
    "\n",
    "df_pa = df_purchase_predictors"
   ]
  },
  {
   "cell_type": "markdown",
   "metadata": {},
   "source": [
    "# Purchase Probability Model"
   ]
  },
  {
   "cell_type": "code",
   "execution_count": 4,
   "metadata": {},
   "outputs": [],
   "source": [
    "Y = df_pa['Incidence']"
   ]
  },
  {
   "cell_type": "code",
   "execution_count": 5,
   "metadata": {},
   "outputs": [],
   "source": [
    "X = pd.DataFrame()\n",
    "X['Mean Price'] = (df_pa['Price_1'] +\n",
    "                   df_pa['Price_2'] +\n",
    "                   df_pa['Price_3'] +\n",
    "                   df_pa['Price_4'] +\n",
    "                   df_pa['Price_5'])/ 5"
   ]
  },
  {
   "cell_type": "code",
   "execution_count": 6,
   "metadata": {},
   "outputs": [
    {
     "data": {
      "text/plain": [
       "LogisticRegression(solver='sag')"
      ]
     },
     "execution_count": 6,
     "metadata": {},
     "output_type": "execute_result"
    }
   ],
   "source": [
    "model_purchase = LogisticRegression(solver = 'sag')\n",
    "model_purchase.fit(X,Y)"
   ]
  },
  {
   "cell_type": "code",
   "execution_count": 7,
   "metadata": {},
   "outputs": [
    {
     "data": {
      "text/plain": [
       "array([[-2.34848836]])"
      ]
     },
     "execution_count": 7,
     "metadata": {},
     "output_type": "execute_result"
    }
   ],
   "source": [
    "model_purchase.coef_"
   ]
  },
  {
   "cell_type": "markdown",
   "metadata": {},
   "source": [
    "# Price Elasticity of Purchase Probability"
   ]
  },
  {
   "cell_type": "code",
   "execution_count": 8,
   "metadata": {},
   "outputs": [
    {
     "data": {
      "text/html": [
       "<div>\n",
       "<style scoped>\n",
       "    .dataframe tbody tr th:only-of-type {\n",
       "        vertical-align: middle;\n",
       "    }\n",
       "\n",
       "    .dataframe tbody tr th {\n",
       "        vertical-align: top;\n",
       "    }\n",
       "\n",
       "    .dataframe thead th {\n",
       "        text-align: right;\n",
       "    }\n",
       "</style>\n",
       "<table border=\"1\" class=\"dataframe\">\n",
       "  <thead>\n",
       "    <tr style=\"text-align: right;\">\n",
       "      <th></th>\n",
       "      <th>Price_1</th>\n",
       "      <th>Price_2</th>\n",
       "      <th>Price_3</th>\n",
       "      <th>Price_4</th>\n",
       "      <th>Price_5</th>\n",
       "    </tr>\n",
       "  </thead>\n",
       "  <tbody>\n",
       "    <tr>\n",
       "      <th>count</th>\n",
       "      <td>58693.000000</td>\n",
       "      <td>58693.000000</td>\n",
       "      <td>58693.000000</td>\n",
       "      <td>58693.000000</td>\n",
       "      <td>58693.000000</td>\n",
       "    </tr>\n",
       "    <tr>\n",
       "      <th>mean</th>\n",
       "      <td>1.392074</td>\n",
       "      <td>1.780999</td>\n",
       "      <td>2.006789</td>\n",
       "      <td>2.159945</td>\n",
       "      <td>2.654798</td>\n",
       "    </tr>\n",
       "    <tr>\n",
       "      <th>std</th>\n",
       "      <td>0.091139</td>\n",
       "      <td>0.170868</td>\n",
       "      <td>0.046867</td>\n",
       "      <td>0.089825</td>\n",
       "      <td>0.098272</td>\n",
       "    </tr>\n",
       "    <tr>\n",
       "      <th>min</th>\n",
       "      <td>1.100000</td>\n",
       "      <td>1.260000</td>\n",
       "      <td>1.870000</td>\n",
       "      <td>1.760000</td>\n",
       "      <td>2.110000</td>\n",
       "    </tr>\n",
       "    <tr>\n",
       "      <th>25%</th>\n",
       "      <td>1.340000</td>\n",
       "      <td>1.580000</td>\n",
       "      <td>1.970000</td>\n",
       "      <td>2.120000</td>\n",
       "      <td>2.630000</td>\n",
       "    </tr>\n",
       "    <tr>\n",
       "      <th>50%</th>\n",
       "      <td>1.390000</td>\n",
       "      <td>1.880000</td>\n",
       "      <td>2.010000</td>\n",
       "      <td>2.170000</td>\n",
       "      <td>2.670000</td>\n",
       "    </tr>\n",
       "    <tr>\n",
       "      <th>75%</th>\n",
       "      <td>1.470000</td>\n",
       "      <td>1.890000</td>\n",
       "      <td>2.060000</td>\n",
       "      <td>2.240000</td>\n",
       "      <td>2.700000</td>\n",
       "    </tr>\n",
       "    <tr>\n",
       "      <th>max</th>\n",
       "      <td>1.590000</td>\n",
       "      <td>1.900000</td>\n",
       "      <td>2.140000</td>\n",
       "      <td>2.260000</td>\n",
       "      <td>2.800000</td>\n",
       "    </tr>\n",
       "  </tbody>\n",
       "</table>\n",
       "</div>"
      ],
      "text/plain": [
       "            Price_1       Price_2       Price_3       Price_4       Price_5\n",
       "count  58693.000000  58693.000000  58693.000000  58693.000000  58693.000000\n",
       "mean       1.392074      1.780999      2.006789      2.159945      2.654798\n",
       "std        0.091139      0.170868      0.046867      0.089825      0.098272\n",
       "min        1.100000      1.260000      1.870000      1.760000      2.110000\n",
       "25%        1.340000      1.580000      1.970000      2.120000      2.630000\n",
       "50%        1.390000      1.880000      2.010000      2.170000      2.670000\n",
       "75%        1.470000      1.890000      2.060000      2.240000      2.700000\n",
       "max        1.590000      1.900000      2.140000      2.260000      2.800000"
      ]
     },
     "execution_count": 8,
     "metadata": {},
     "output_type": "execute_result"
    }
   ],
   "source": [
    "df_pa[['Price_1','Price_2','Price_3','Price_4','Price_5']].describe()"
   ]
  },
  {
   "cell_type": "code",
   "execution_count": 111,
   "metadata": {},
   "outputs": [],
   "source": [
    "price_range = np.arange(0.5, 3.5, 0.01)"
   ]
  },
  {
   "cell_type": "code",
   "execution_count": 112,
   "metadata": {},
   "outputs": [],
   "source": [
    "df_price_range = pd.DataFrame(price_range)"
   ]
  },
  {
   "cell_type": "code",
   "execution_count": 113,
   "metadata": {},
   "outputs": [],
   "source": [
    "# getting probability from LogisticRegression\n",
    "Y_pr = model_purchase.predict_proba(df_price_range)\n",
    "purchase_pr = Y_pr[:,1]"
   ]
  },
  {
   "cell_type": "code",
   "execution_count": 114,
   "metadata": {},
   "outputs": [],
   "source": [
    "# Price Elasticity\n",
    "pe = model_purchase.coef_[:,0] * price_range * (1 - purchase_pr)"
   ]
  },
  {
   "cell_type": "code",
   "execution_count": 115,
   "metadata": {},
   "outputs": [],
   "source": [
    "df_price_elasticities = pd.DataFrame(price_range)"
   ]
  },
  {
   "cell_type": "code",
   "execution_count": 116,
   "metadata": {},
   "outputs": [
    {
     "data": {
      "text/html": [
       "<div>\n",
       "<style scoped>\n",
       "    .dataframe tbody tr th:only-of-type {\n",
       "        vertical-align: middle;\n",
       "    }\n",
       "\n",
       "    .dataframe tbody tr th {\n",
       "        vertical-align: top;\n",
       "    }\n",
       "\n",
       "    .dataframe thead th {\n",
       "        text-align: right;\n",
       "    }\n",
       "</style>\n",
       "<table border=\"1\" class=\"dataframe\">\n",
       "  <thead>\n",
       "    <tr style=\"text-align: right;\">\n",
       "      <th></th>\n",
       "      <th>Price_Point</th>\n",
       "      <th>Mean_PE</th>\n",
       "    </tr>\n",
       "  </thead>\n",
       "  <tbody>\n",
       "    <tr>\n",
       "      <th>0</th>\n",
       "      <td>0.50</td>\n",
       "      <td>-0.096494</td>\n",
       "    </tr>\n",
       "    <tr>\n",
       "      <th>1</th>\n",
       "      <td>0.51</td>\n",
       "      <td>-0.100566</td>\n",
       "    </tr>\n",
       "    <tr>\n",
       "      <th>2</th>\n",
       "      <td>0.52</td>\n",
       "      <td>-0.104765</td>\n",
       "    </tr>\n",
       "    <tr>\n",
       "      <th>3</th>\n",
       "      <td>0.53</td>\n",
       "      <td>-0.109095</td>\n",
       "    </tr>\n",
       "    <tr>\n",
       "      <th>4</th>\n",
       "      <td>0.54</td>\n",
       "      <td>-0.113558</td>\n",
       "    </tr>\n",
       "    <tr>\n",
       "      <th>5</th>\n",
       "      <td>0.55</td>\n",
       "      <td>-0.118158</td>\n",
       "    </tr>\n",
       "    <tr>\n",
       "      <th>6</th>\n",
       "      <td>0.56</td>\n",
       "      <td>-0.122898</td>\n",
       "    </tr>\n",
       "    <tr>\n",
       "      <th>7</th>\n",
       "      <td>0.57</td>\n",
       "      <td>-0.127782</td>\n",
       "    </tr>\n",
       "    <tr>\n",
       "      <th>8</th>\n",
       "      <td>0.58</td>\n",
       "      <td>-0.132812</td>\n",
       "    </tr>\n",
       "    <tr>\n",
       "      <th>9</th>\n",
       "      <td>0.59</td>\n",
       "      <td>-0.137992</td>\n",
       "    </tr>\n",
       "    <tr>\n",
       "      <th>10</th>\n",
       "      <td>0.60</td>\n",
       "      <td>-0.143327</td>\n",
       "    </tr>\n",
       "    <tr>\n",
       "      <th>11</th>\n",
       "      <td>0.61</td>\n",
       "      <td>-0.148819</td>\n",
       "    </tr>\n",
       "    <tr>\n",
       "      <th>12</th>\n",
       "      <td>0.62</td>\n",
       "      <td>-0.154471</td>\n",
       "    </tr>\n",
       "    <tr>\n",
       "      <th>13</th>\n",
       "      <td>0.63</td>\n",
       "      <td>-0.160288</td>\n",
       "    </tr>\n",
       "    <tr>\n",
       "      <th>14</th>\n",
       "      <td>0.64</td>\n",
       "      <td>-0.166274</td>\n",
       "    </tr>\n",
       "  </tbody>\n",
       "</table>\n",
       "</div>"
      ],
      "text/plain": [
       "    Price_Point   Mean_PE\n",
       "0          0.50 -0.096494\n",
       "1          0.51 -0.100566\n",
       "2          0.52 -0.104765\n",
       "3          0.53 -0.109095\n",
       "4          0.54 -0.113558\n",
       "5          0.55 -0.118158\n",
       "6          0.56 -0.122898\n",
       "7          0.57 -0.127782\n",
       "8          0.58 -0.132812\n",
       "9          0.59 -0.137992\n",
       "10         0.60 -0.143327\n",
       "11         0.61 -0.148819\n",
       "12         0.62 -0.154471\n",
       "13         0.63 -0.160288\n",
       "14         0.64 -0.166274"
      ]
     },
     "execution_count": 116,
     "metadata": {},
     "output_type": "execute_result"
    }
   ],
   "source": [
    "df_price_elasticities = df_price_elasticities.rename(columns = {0: 'Price_Point'})\n",
    "df_price_elasticities['Mean_PE'] = pe\n",
    "df_price_elasticities.head(15)"
   ]
  },
  {
   "cell_type": "code",
   "execution_count": 16,
   "metadata": {},
   "outputs": [
    {
     "data": {
      "image/png": "[encoded data removed]",
      "text/plain": [
       "<Figure size 720x504 with 1 Axes>"
      ]
     },
     "metadata": {},
     "output_type": "display_data"
    }
   ],
   "source": [
    "plt.figure(figsize=(10,7))\n",
    "plt.plot(price_range,pe,color='grey')\n",
    "plt.xlabel('Price')\n",
    "plt.ylabel('Elasticity')\n",
    "plt.title('Price Elasticity of Purchase Probability')\n",
    "plt.show()"
   ]
  },
  {
   "cell_type": "markdown",
   "metadata": {},
   "source": [
    "# Purchase Probability by Segments"
   ]
  },
  {
   "cell_type": "markdown",
   "metadata": {},
   "source": [
    "## Segment 1 - Well Off"
   ]
  },
  {
   "cell_type": "code",
   "execution_count": 17,
   "metadata": {},
   "outputs": [
    {
     "data": {
      "text/plain": [
       "array([3, 1, 2, 0])"
      ]
     },
     "execution_count": 17,
     "metadata": {},
     "output_type": "execute_result"
    }
   ],
   "source": [
    "df_pa['Segment'].unique()"
   ]
  },
  {
   "cell_type": "code",
   "execution_count": 18,
   "metadata": {},
   "outputs": [],
   "source": [
    "df_pa_segment_1 = df_pa[df_pa['Segment'] == 1]"
   ]
  },
  {
   "cell_type": "code",
   "execution_count": 19,
   "metadata": {},
   "outputs": [],
   "source": [
    "Y = df_pa_segment_1['Incidence']"
   ]
  },
  {
   "cell_type": "code",
   "execution_count": 20,
   "metadata": {},
   "outputs": [],
   "source": [
    "X = pd.DataFrame()"
   ]
  },
  {
   "cell_type": "code",
   "execution_count": 21,
   "metadata": {},
   "outputs": [],
   "source": [
    "X['Mean Price'] = (df_pa_segment_1['Price_1'] + \n",
    "                   df_pa_segment_1['Price_2'] + \n",
    "                   df_pa_segment_1['Price_3'] + \n",
    "                   df_pa_segment_1['Price_4'] + \n",
    "                   df_pa_segment_1['Price_5'])/5"
   ]
  },
  {
   "cell_type": "code",
   "execution_count": 22,
   "metadata": {},
   "outputs": [
    {
     "data": {
      "text/plain": [
       "LogisticRegression(solver='sag')"
      ]
     },
     "execution_count": 22,
     "metadata": {},
     "output_type": "execute_result"
    }
   ],
   "source": [
    "model_incidence_segment_1 = LogisticRegression(solver= 'sag')\n",
    "model_incidence_segment_1.fit(X,Y)"
   ]
  },
  {
   "cell_type": "code",
   "execution_count": 23,
   "metadata": {},
   "outputs": [
    {
     "data": {
      "text/plain": [
       "array([[-1.24480785]])"
      ]
     },
     "execution_count": 23,
     "metadata": {},
     "output_type": "execute_result"
    }
   ],
   "source": [
    "model_incidence_segment_1.coef_"
   ]
  },
  {
   "cell_type": "code",
   "execution_count": 24,
   "metadata": {},
   "outputs": [],
   "source": [
    "Y_segment_1 = model_incidence_segment_1.predict_proba(df_price_range)\n",
    "purchase_pr_segment_1 = Y_segment_1[:,1]\n",
    "pe_segment_1 = model_incidence_segment_1.coef_[:,0] * price_range * (1 - purchase_pr_segment_1)"
   ]
  },
  {
   "cell_type": "markdown",
   "metadata": {},
   "source": [
    "### Result"
   ]
  },
  {
   "cell_type": "code",
   "execution_count": 26,
   "metadata": {},
   "outputs": [
    {
     "data": {
      "text/html": [
       "<div>\n",
       "<style scoped>\n",
       "    .dataframe tbody tr th:only-of-type {\n",
       "        vertical-align: middle;\n",
       "    }\n",
       "\n",
       "    .dataframe tbody tr th {\n",
       "        vertical-align: top;\n",
       "    }\n",
       "\n",
       "    .dataframe thead th {\n",
       "        text-align: right;\n",
       "    }\n",
       "</style>\n",
       "<table border=\"1\" class=\"dataframe\">\n",
       "  <thead>\n",
       "    <tr style=\"text-align: right;\">\n",
       "      <th></th>\n",
       "      <th>Price_Point</th>\n",
       "      <th>Mean_PE</th>\n",
       "      <th>PE_segment_1</th>\n",
       "    </tr>\n",
       "  </thead>\n",
       "  <tbody>\n",
       "    <tr>\n",
       "      <th>0</th>\n",
       "      <td>0.50</td>\n",
       "      <td>-0.096494</td>\n",
       "      <td>-0.167862</td>\n",
       "    </tr>\n",
       "    <tr>\n",
       "      <th>1</th>\n",
       "      <td>0.51</td>\n",
       "      <td>-0.100566</td>\n",
       "      <td>-0.172780</td>\n",
       "    </tr>\n",
       "    <tr>\n",
       "      <th>2</th>\n",
       "      <td>0.52</td>\n",
       "      <td>-0.104765</td>\n",
       "      <td>-0.177769</td>\n",
       "    </tr>\n",
       "    <tr>\n",
       "      <th>3</th>\n",
       "      <td>0.53</td>\n",
       "      <td>-0.109095</td>\n",
       "      <td>-0.182828</td>\n",
       "    </tr>\n",
       "    <tr>\n",
       "      <th>4</th>\n",
       "      <td>0.54</td>\n",
       "      <td>-0.113558</td>\n",
       "      <td>-0.187958</td>\n",
       "    </tr>\n",
       "    <tr>\n",
       "      <th>5</th>\n",
       "      <td>0.55</td>\n",
       "      <td>-0.118158</td>\n",
       "      <td>-0.193160</td>\n",
       "    </tr>\n",
       "    <tr>\n",
       "      <th>6</th>\n",
       "      <td>0.56</td>\n",
       "      <td>-0.122898</td>\n",
       "      <td>-0.198435</td>\n",
       "    </tr>\n",
       "    <tr>\n",
       "      <th>7</th>\n",
       "      <td>0.57</td>\n",
       "      <td>-0.127782</td>\n",
       "      <td>-0.203781</td>\n",
       "    </tr>\n",
       "    <tr>\n",
       "      <th>8</th>\n",
       "      <td>0.58</td>\n",
       "      <td>-0.132812</td>\n",
       "      <td>-0.209201</td>\n",
       "    </tr>\n",
       "    <tr>\n",
       "      <th>9</th>\n",
       "      <td>0.59</td>\n",
       "      <td>-0.137992</td>\n",
       "      <td>-0.214695</td>\n",
       "    </tr>\n",
       "  </tbody>\n",
       "</table>\n",
       "</div>"
      ],
      "text/plain": [
       "   Price_Point   Mean_PE  PE_segment_1\n",
       "0         0.50 -0.096494     -0.167862\n",
       "1         0.51 -0.100566     -0.172780\n",
       "2         0.52 -0.104765     -0.177769\n",
       "3         0.53 -0.109095     -0.182828\n",
       "4         0.54 -0.113558     -0.187958\n",
       "5         0.55 -0.118158     -0.193160\n",
       "6         0.56 -0.122898     -0.198435\n",
       "7         0.57 -0.127782     -0.203781\n",
       "8         0.58 -0.132812     -0.209201\n",
       "9         0.59 -0.137992     -0.214695"
      ]
     },
     "execution_count": 26,
     "metadata": {},
     "output_type": "execute_result"
    }
   ],
   "source": [
    "df_price_elasticities['PE_segment_1'] = pe_segment_1\n",
    "df_price_elasticities.head(10)"
   ]
  },
  {
   "cell_type": "code",
   "execution_count": 27,
   "metadata": {},
   "outputs": [
    {
     "data": {
      "image/png": "[encoded data removed]",
      "text/plain": [
       "<Figure size 720x504 with 1 Axes>"
      ]
     },
     "metadata": {},
     "output_type": "display_data"
    }
   ],
   "source": [
    "plt.figure(figsize=(10,7))\n",
    "plt.plot(price_range,pe,color='grey')\n",
    "plt.plot(price_range,pe_segment_1,color='green')\n",
    "plt.xlabel('Price')\n",
    "plt.ylabel('Elasticity')\n",
    "plt.title('Price Elasticity of Purchase Probability')\n",
    "plt.show()"
   ]
  },
  {
   "cell_type": "markdown",
   "metadata": {},
   "source": [
    "## Segment 2 - Career focused"
   ]
  },
  {
   "cell_type": "code",
   "execution_count": 28,
   "metadata": {},
   "outputs": [],
   "source": [
    "df_pa_segment_2 = df_pa[df_pa['Segment'] == 2]\n",
    "Y = df_pa_segment_2['Incidence']\n",
    "X = pd.DataFrame()\n",
    "\n",
    "X['Mean Price'] = (df_pa_segment_2['Price_1'] + \n",
    "                   df_pa_segment_2['Price_2'] + \n",
    "                   df_pa_segment_2['Price_3'] + \n",
    "                   df_pa_segment_2['Price_4'] + \n",
    "                   df_pa_segment_2['Price_5'])/5\n",
    "\n",
    "model_incidence_segment_2 = LogisticRegression(solver= 'sag')\n",
    "model_incidence_segment_2.fit(X,Y)\n",
    "\n",
    "Y_segment_2 = model_incidence_segment_2.predict_proba(df_price_range)\n",
    "purchase_pr_segment_2 = Y_segment_2[:,1]\n",
    "pe_segment_2 = model_incidence_segment_2.coef_[:,0] * price_range * (1 - purchase_pr_segment_2)"
   ]
  },
  {
   "cell_type": "markdown",
   "metadata": {},
   "source": [
    "### Results"
   ]
  },
  {
   "cell_type": "code",
   "execution_count": 30,
   "metadata": {},
   "outputs": [
    {
     "data": {
      "text/html": [
       "<div>\n",
       "<style scoped>\n",
       "    .dataframe tbody tr th:only-of-type {\n",
       "        vertical-align: middle;\n",
       "    }\n",
       "\n",
       "    .dataframe tbody tr th {\n",
       "        vertical-align: top;\n",
       "    }\n",
       "\n",
       "    .dataframe thead th {\n",
       "        text-align: right;\n",
       "    }\n",
       "</style>\n",
       "<table border=\"1\" class=\"dataframe\">\n",
       "  <thead>\n",
       "    <tr style=\"text-align: right;\">\n",
       "      <th></th>\n",
       "      <th>Price_Point</th>\n",
       "      <th>Mean_PE</th>\n",
       "      <th>PE_segment_1</th>\n",
       "      <th>PE_segment_2</th>\n",
       "    </tr>\n",
       "  </thead>\n",
       "  <tbody>\n",
       "    <tr>\n",
       "      <th>0</th>\n",
       "      <td>0.50</td>\n",
       "      <td>-0.096494</td>\n",
       "      <td>-0.167862</td>\n",
       "      <td>-0.117467</td>\n",
       "    </tr>\n",
       "    <tr>\n",
       "      <th>1</th>\n",
       "      <td>0.51</td>\n",
       "      <td>-0.100566</td>\n",
       "      <td>-0.172780</td>\n",
       "      <td>-0.121526</td>\n",
       "    </tr>\n",
       "    <tr>\n",
       "      <th>2</th>\n",
       "      <td>0.52</td>\n",
       "      <td>-0.104765</td>\n",
       "      <td>-0.177769</td>\n",
       "      <td>-0.125672</td>\n",
       "    </tr>\n",
       "    <tr>\n",
       "      <th>3</th>\n",
       "      <td>0.53</td>\n",
       "      <td>-0.109095</td>\n",
       "      <td>-0.182828</td>\n",
       "      <td>-0.129907</td>\n",
       "    </tr>\n",
       "    <tr>\n",
       "      <th>4</th>\n",
       "      <td>0.54</td>\n",
       "      <td>-0.113558</td>\n",
       "      <td>-0.187958</td>\n",
       "      <td>-0.134232</td>\n",
       "    </tr>\n",
       "    <tr>\n",
       "      <th>5</th>\n",
       "      <td>0.55</td>\n",
       "      <td>-0.118158</td>\n",
       "      <td>-0.193160</td>\n",
       "      <td>-0.138649</td>\n",
       "    </tr>\n",
       "    <tr>\n",
       "      <th>6</th>\n",
       "      <td>0.56</td>\n",
       "      <td>-0.122898</td>\n",
       "      <td>-0.198435</td>\n",
       "      <td>-0.143159</td>\n",
       "    </tr>\n",
       "    <tr>\n",
       "      <th>7</th>\n",
       "      <td>0.57</td>\n",
       "      <td>-0.127782</td>\n",
       "      <td>-0.203781</td>\n",
       "      <td>-0.147764</td>\n",
       "    </tr>\n",
       "    <tr>\n",
       "      <th>8</th>\n",
       "      <td>0.58</td>\n",
       "      <td>-0.132812</td>\n",
       "      <td>-0.209201</td>\n",
       "      <td>-0.152463</td>\n",
       "    </tr>\n",
       "    <tr>\n",
       "      <th>9</th>\n",
       "      <td>0.59</td>\n",
       "      <td>-0.137992</td>\n",
       "      <td>-0.214695</td>\n",
       "      <td>-0.157260</td>\n",
       "    </tr>\n",
       "  </tbody>\n",
       "</table>\n",
       "</div>"
      ],
      "text/plain": [
       "   Price_Point   Mean_PE  PE_segment_1  PE_segment_2\n",
       "0         0.50 -0.096494     -0.167862     -0.117467\n",
       "1         0.51 -0.100566     -0.172780     -0.121526\n",
       "2         0.52 -0.104765     -0.177769     -0.125672\n",
       "3         0.53 -0.109095     -0.182828     -0.129907\n",
       "4         0.54 -0.113558     -0.187958     -0.134232\n",
       "5         0.55 -0.118158     -0.193160     -0.138649\n",
       "6         0.56 -0.122898     -0.198435     -0.143159\n",
       "7         0.57 -0.127782     -0.203781     -0.147764\n",
       "8         0.58 -0.132812     -0.209201     -0.152463\n",
       "9         0.59 -0.137992     -0.214695     -0.157260"
      ]
     },
     "execution_count": 30,
     "metadata": {},
     "output_type": "execute_result"
    }
   ],
   "source": [
    "df_price_elasticities['PE_segment_2'] = pe_segment_2\n",
    "df_price_elasticities.head(10)"
   ]
  },
  {
   "cell_type": "code",
   "execution_count": 31,
   "metadata": {},
   "outputs": [
    {
     "data": {
      "image/png": "[encoded data removed]",
      "text/plain": [
       "<Figure size 720x504 with 1 Axes>"
      ]
     },
     "metadata": {},
     "output_type": "display_data"
    }
   ],
   "source": [
    "plt.figure(figsize=(10,7))\n",
    "plt.plot(price_range,pe,color='grey')\n",
    "plt.plot(price_range,pe_segment_1,color='green')\n",
    "plt.plot(price_range,pe_segment_2,color='blue')\n",
    "plt.xlabel('Price')\n",
    "plt.ylabel('Elasticity')\n",
    "plt.title('Price Elasticity of Purchase Probability')\n",
    "plt.show()"
   ]
  },
  {
   "cell_type": "markdown",
   "metadata": {},
   "source": [
    "## Segment 3 - fewer opp"
   ]
  },
  {
   "cell_type": "code",
   "execution_count": 32,
   "metadata": {},
   "outputs": [],
   "source": [
    "df_pa_segment_3 = df_pa[df_pa['Segment'] == 3]\n",
    "Y = df_pa_segment_3['Incidence']\n",
    "X = pd.DataFrame()\n",
    "\n",
    "X['Mean Price'] = (df_pa_segment_3['Price_1'] + \n",
    "                   df_pa_segment_3['Price_2'] + \n",
    "                   df_pa_segment_3['Price_3'] + \n",
    "                   df_pa_segment_3['Price_4'] + \n",
    "                   df_pa_segment_3['Price_5'])/5\n",
    "\n",
    "model_incidence_segment_3 = LogisticRegression(solver= 'sag')\n",
    "model_incidence_segment_3.fit(X,Y)\n",
    "\n",
    "Y_segment_3 = model_incidence_segment_3.predict_proba(df_price_range)\n",
    "purchase_pr_segment_3 = Y_segment_3[:,1]\n",
    "pe_segment_3 = model_incidence_segment_3.coef_[:,0] * price_range * (1 - purchase_pr_segment_3)"
   ]
  },
  {
   "cell_type": "markdown",
   "metadata": {},
   "source": [
    "### Results"
   ]
  },
  {
   "cell_type": "code",
   "execution_count": 33,
   "metadata": {},
   "outputs": [],
   "source": [
    "df_price_elasticities['PE_segment_2'] = pe_segment_2\n",
    "# df_price_elasticities"
   ]
  },
  {
   "cell_type": "code",
   "execution_count": 34,
   "metadata": {},
   "outputs": [
    {
     "data": {
      "image/png": "[encoded data removed]",
      "text/plain": [
       "<Figure size 720x504 with 1 Axes>"
      ]
     },
     "metadata": {},
     "output_type": "display_data"
    }
   ],
   "source": [
    "plt.figure(figsize=(10,7))\n",
    "plt.plot(price_range,pe,color='grey')\n",
    "plt.plot(price_range,pe_segment_1,color='green')\n",
    "plt.plot(price_range,pe_segment_2,color='blue')\n",
    "plt.plot(price_range,pe_segment_3,color='red')\n",
    "plt.xlabel('Price')\n",
    "plt.ylabel('Elasticity')\n",
    "plt.title('Price Elasticity of Purchase Probability')\n",
    "plt.show()\n",
    "# This segment is more inelastic than others in lower prices "
   ]
  },
  {
   "cell_type": "markdown",
   "metadata": {},
   "source": [
    "## Segment 4 - Standard"
   ]
  },
  {
   "cell_type": "code",
   "execution_count": 35,
   "metadata": {},
   "outputs": [],
   "source": [
    "df_pa_segment_4 = df_pa[df_pa['Segment'] == 0]\n",
    "Y = df_pa_segment_4['Incidence']\n",
    "X = pd.DataFrame()\n",
    "\n",
    "X['Mean Price'] = (df_pa_segment_4['Price_1'] + \n",
    "                   df_pa_segment_4['Price_2'] + \n",
    "                   df_pa_segment_4['Price_3'] + \n",
    "                   df_pa_segment_4['Price_4'] + \n",
    "                   df_pa_segment_4['Price_5'])/5\n",
    "\n",
    "model_incidence_segment_4 = LogisticRegression(solver= 'sag')\n",
    "model_incidence_segment_4.fit(X,Y)\n",
    "\n",
    "Y_segment_4 = model_incidence_segment_4.predict_proba(df_price_range)\n",
    "purchase_pr_segment_4 = Y_segment_4[:,1]\n",
    "pe_segment_4 = model_incidence_segment_4.coef_[:,0] * price_range * (1 - purchase_pr_segment_4)"
   ]
  },
  {
   "cell_type": "markdown",
   "metadata": {},
   "source": [
    "### Results"
   ]
  },
  {
   "cell_type": "code",
   "execution_count": 36,
   "metadata": {},
   "outputs": [],
   "source": [
    "df_price_elasticities['PE_segment_4'] = pe_segment_4"
   ]
  },
  {
   "cell_type": "code",
   "execution_count": 37,
   "metadata": {},
   "outputs": [
    {
     "data": {
      "image/png": "[encoded data removed]",
      "text/plain": [
       "<Figure size 720x504 with 1 Axes>"
      ]
     },
     "metadata": {},
     "output_type": "display_data"
    }
   ],
   "source": [
    "plt.figure(figsize=(10,7))\n",
    "plt.plot(price_range,pe,color='grey')\n",
    "plt.plot(price_range,pe_segment_1,color='green')\n",
    "plt.plot(price_range,pe_segment_2,color='blue')\n",
    "plt.plot(price_range,pe_segment_3,color='red')\n",
    "plt.plot(price_range,pe_segment_4,color='yellow')\n",
    "plt.xlabel('Price')\n",
    "plt.ylabel('Elasticity')\n",
    "plt.title('Price Elasticity of Purchase Probability')\n",
    "plt.show()"
   ]
  },
  {
   "cell_type": "markdown",
   "metadata": {},
   "source": [
    "# Purchase Probability by Promotion"
   ]
  },
  {
   "cell_type": "markdown",
   "metadata": {},
   "source": [
    "## Data Preparation"
   ]
  },
  {
   "cell_type": "code",
   "execution_count": 38,
   "metadata": {},
   "outputs": [],
   "source": [
    "Y = df_pa['Incidence']\n",
    "X = pd.DataFrame()\n",
    "\n",
    "X['Mean Price'] = (df_pa['Price_1'] + \n",
    "                   df_pa['Price_2'] + \n",
    "                   df_pa['Price_3'] + \n",
    "                   df_pa['Price_4'] + \n",
    "                   df_pa['Price_5'])/5\n",
    "\n",
    "X['Mean_Promotion'] = (df_pa['Promotion_1'] +\n",
    "                       df_pa['Promotion_2'] +\n",
    "                       df_pa['Promotion_3'] +\n",
    "                       df_pa['Promotion_4'] +\n",
    "                       df_pa['Promotion_5'])/5"
   ]
  },
  {
   "cell_type": "markdown",
   "metadata": {},
   "source": [
    "## Model Estimation"
   ]
  },
  {
   "cell_type": "code",
   "execution_count": 39,
   "metadata": {},
   "outputs": [
    {
     "data": {
      "text/plain": [
       "array([[-1.49407357,  0.56152406]])"
      ]
     },
     "execution_count": 39,
     "metadata": {},
     "output_type": "execute_result"
    }
   ],
   "source": [
    "model_incidense_promotion = LogisticRegression(solver='sag')\n",
    "model_incidense_promotion.fit(X,Y)\n",
    "model_incidense_promotion.coef_"
   ]
  },
  {
   "cell_type": "markdown",
   "metadata": {},
   "source": [
    "## Price Elasticity with Promotion"
   ]
  },
  {
   "cell_type": "code",
   "execution_count": 40,
   "metadata": {},
   "outputs": [],
   "source": [
    "df_price_elasticity_promotion = pd.DataFrame(price_range)\n",
    "df_price_elasticity_promotion = df_price_elasticity_promotion.rename(columns = {0: \"Price_range\"})"
   ]
  },
  {
   "cell_type": "code",
   "execution_count": 41,
   "metadata": {},
   "outputs": [],
   "source": [
    "df_price_elasticity_promotion['Promotion'] = 1"
   ]
  },
  {
   "cell_type": "code",
   "execution_count": 42,
   "metadata": {},
   "outputs": [],
   "source": [
    "Y_promotion = model_incidense_promotion.predict_proba(df_price_elasticity_promotion)"
   ]
  },
  {
   "cell_type": "code",
   "execution_count": 43,
   "metadata": {},
   "outputs": [],
   "source": [
    "promo = Y_promotion[:,1]\n",
    "price_elasticity_promo = model_incidense_promotion.coef_[:,0] * price_range * (1 - promo)"
   ]
  },
  {
   "cell_type": "code",
   "execution_count": 44,
   "metadata": {},
   "outputs": [],
   "source": [
    "df_price_elasticities['Elascticity_Promotion'] = price_elasticity_promo"
   ]
  },
  {
   "cell_type": "code",
   "execution_count": 46,
   "metadata": {},
   "outputs": [
    {
     "data": {
      "text/html": [
       "<div>\n",
       "<style scoped>\n",
       "    .dataframe tbody tr th:only-of-type {\n",
       "        vertical-align: middle;\n",
       "    }\n",
       "\n",
       "    .dataframe tbody tr th {\n",
       "        vertical-align: top;\n",
       "    }\n",
       "\n",
       "    .dataframe thead th {\n",
       "        text-align: right;\n",
       "    }\n",
       "</style>\n",
       "<table border=\"1\" class=\"dataframe\">\n",
       "  <thead>\n",
       "    <tr style=\"text-align: right;\">\n",
       "      <th></th>\n",
       "      <th>Price_range</th>\n",
       "      <th>Promotion</th>\n",
       "    </tr>\n",
       "  </thead>\n",
       "  <tbody>\n",
       "    <tr>\n",
       "      <th>0</th>\n",
       "      <td>0.50</td>\n",
       "      <td>1</td>\n",
       "    </tr>\n",
       "    <tr>\n",
       "      <th>1</th>\n",
       "      <td>0.51</td>\n",
       "      <td>1</td>\n",
       "    </tr>\n",
       "    <tr>\n",
       "      <th>2</th>\n",
       "      <td>0.52</td>\n",
       "      <td>1</td>\n",
       "    </tr>\n",
       "    <tr>\n",
       "      <th>3</th>\n",
       "      <td>0.53</td>\n",
       "      <td>1</td>\n",
       "    </tr>\n",
       "    <tr>\n",
       "      <th>4</th>\n",
       "      <td>0.54</td>\n",
       "      <td>1</td>\n",
       "    </tr>\n",
       "  </tbody>\n",
       "</table>\n",
       "</div>"
      ],
      "text/plain": [
       "   Price_range  Promotion\n",
       "0         0.50          1\n",
       "1         0.51          1\n",
       "2         0.52          1\n",
       "3         0.53          1\n",
       "4         0.54          1"
      ]
     },
     "execution_count": 46,
     "metadata": {},
     "output_type": "execute_result"
    }
   ],
   "source": [
    "df_price_elasticity_promotion.head(5)"
   ]
  },
  {
   "cell_type": "markdown",
   "metadata": {},
   "source": [
    "## Price Elasticity with no Promotion"
   ]
  },
  {
   "cell_type": "code",
   "execution_count": 47,
   "metadata": {},
   "outputs": [],
   "source": [
    "df_price_elasticity_promotion_no = pd.DataFrame(price_range)\n",
    "df_price_elasticity_promotion_no = df_price_elasticity_promotion_no.rename(columns = {0: \"Price_range\"})"
   ]
  },
  {
   "cell_type": "code",
   "execution_count": 48,
   "metadata": {},
   "outputs": [],
   "source": [
    "df_price_elasticity_promotion_no['Promotion'] = 0"
   ]
  },
  {
   "cell_type": "code",
   "execution_count": 49,
   "metadata": {},
   "outputs": [],
   "source": [
    "Y_promotion_no = model_incidense_promotion.predict_proba(df_price_elasticity_promotion_no)"
   ]
  },
  {
   "cell_type": "code",
   "execution_count": 50,
   "metadata": {},
   "outputs": [],
   "source": [
    "promo_no = Y_promotion_no[:,1]\n",
    "price_elasticity_promo_no = model_incidense_promotion.coef_[:,0] * price_range * (1 - promo_no)"
   ]
  },
  {
   "cell_type": "code",
   "execution_count": 51,
   "metadata": {},
   "outputs": [],
   "source": [
    "df_price_elasticities['Elasticity_Promotion_0'] = price_elasticity_promo_no"
   ]
  },
  {
   "cell_type": "code",
   "execution_count": 52,
   "metadata": {},
   "outputs": [
    {
     "data": {
      "text/plain": [
       "Text(0.5, 1.0, 'Price Elasticity of Purchase Probability with and without Promotion')"
      ]
     },
     "execution_count": 52,
     "metadata": {},
     "output_type": "execute_result"
    },
    {
     "data": {
      "image/png": "[encoded data removed]",
      "text/plain": [
       "<Figure size 648x432 with 1 Axes>"
      ]
     },
     "metadata": {},
     "output_type": "display_data"
    }
   ],
   "source": [
    "plt.figure(figsize = (9, 6))\n",
    "plt.plot(price_range, price_elasticity_promo_no)\n",
    "plt.plot(price_range, price_elasticity_promo)\n",
    "plt.title('Price Elasticity of Purchase Probability with and without Promotion')"
   ]
  },
  {
   "cell_type": "markdown",
   "metadata": {},
   "source": [
    "# Brand Choice"
   ]
  },
  {
   "cell_type": "markdown",
   "metadata": {},
   "source": [
    "## Data Prep"
   ]
  },
  {
   "cell_type": "code",
   "execution_count": 53,
   "metadata": {},
   "outputs": [],
   "source": [
    "brand_choice = df_pa[df_pa['Incidence'] == 1]"
   ]
  },
  {
   "cell_type": "code",
   "execution_count": 55,
   "metadata": {},
   "outputs": [
    {
     "data": {
      "text/html": [
       "<div>\n",
       "<style scoped>\n",
       "    .dataframe tbody tr th:only-of-type {\n",
       "        vertical-align: middle;\n",
       "    }\n",
       "\n",
       "    .dataframe tbody tr th {\n",
       "        vertical-align: top;\n",
       "    }\n",
       "\n",
       "    .dataframe thead th {\n",
       "        text-align: right;\n",
       "    }\n",
       "</style>\n",
       "<table border=\"1\" class=\"dataframe\">\n",
       "  <thead>\n",
       "    <tr style=\"text-align: right;\">\n",
       "      <th></th>\n",
       "      <th>ID</th>\n",
       "      <th>Day</th>\n",
       "      <th>Incidence</th>\n",
       "      <th>Brand</th>\n",
       "      <th>Quantity</th>\n",
       "      <th>Last_Inc_Brand</th>\n",
       "      <th>Last_Inc_Quantity</th>\n",
       "      <th>Price_1</th>\n",
       "      <th>Price_2</th>\n",
       "      <th>Price_3</th>\n",
       "      <th>...</th>\n",
       "      <th>Age</th>\n",
       "      <th>Education</th>\n",
       "      <th>Income</th>\n",
       "      <th>Occupation</th>\n",
       "      <th>Settlement size</th>\n",
       "      <th>Segment</th>\n",
       "      <th>Segment_0</th>\n",
       "      <th>Segment_1</th>\n",
       "      <th>Segment_2</th>\n",
       "      <th>Segment_3</th>\n",
       "    </tr>\n",
       "  </thead>\n",
       "  <tbody>\n",
       "    <tr>\n",
       "      <th>6</th>\n",
       "      <td>200000001</td>\n",
       "      <td>28</td>\n",
       "      <td>1</td>\n",
       "      <td>2</td>\n",
       "      <td>2</td>\n",
       "      <td>0</td>\n",
       "      <td>0</td>\n",
       "      <td>1.50</td>\n",
       "      <td>1.90</td>\n",
       "      <td>1.99</td>\n",
       "      <td>...</td>\n",
       "      <td>47</td>\n",
       "      <td>1</td>\n",
       "      <td>110866</td>\n",
       "      <td>1</td>\n",
       "      <td>0</td>\n",
       "      <td>3</td>\n",
       "      <td>0</td>\n",
       "      <td>0</td>\n",
       "      <td>0</td>\n",
       "      <td>1</td>\n",
       "    </tr>\n",
       "    <tr>\n",
       "      <th>11</th>\n",
       "      <td>200000001</td>\n",
       "      <td>58</td>\n",
       "      <td>1</td>\n",
       "      <td>5</td>\n",
       "      <td>1</td>\n",
       "      <td>0</td>\n",
       "      <td>0</td>\n",
       "      <td>1.39</td>\n",
       "      <td>1.90</td>\n",
       "      <td>1.91</td>\n",
       "      <td>...</td>\n",
       "      <td>47</td>\n",
       "      <td>1</td>\n",
       "      <td>110866</td>\n",
       "      <td>1</td>\n",
       "      <td>0</td>\n",
       "      <td>3</td>\n",
       "      <td>0</td>\n",
       "      <td>0</td>\n",
       "      <td>0</td>\n",
       "      <td>1</td>\n",
       "    </tr>\n",
       "    <tr>\n",
       "      <th>19</th>\n",
       "      <td>200000001</td>\n",
       "      <td>110</td>\n",
       "      <td>1</td>\n",
       "      <td>1</td>\n",
       "      <td>2</td>\n",
       "      <td>0</td>\n",
       "      <td>0</td>\n",
       "      <td>1.47</td>\n",
       "      <td>1.90</td>\n",
       "      <td>1.99</td>\n",
       "      <td>...</td>\n",
       "      <td>47</td>\n",
       "      <td>1</td>\n",
       "      <td>110866</td>\n",
       "      <td>1</td>\n",
       "      <td>0</td>\n",
       "      <td>3</td>\n",
       "      <td>0</td>\n",
       "      <td>0</td>\n",
       "      <td>0</td>\n",
       "      <td>1</td>\n",
       "    </tr>\n",
       "    <tr>\n",
       "      <th>24</th>\n",
       "      <td>200000001</td>\n",
       "      <td>142</td>\n",
       "      <td>1</td>\n",
       "      <td>4</td>\n",
       "      <td>1</td>\n",
       "      <td>0</td>\n",
       "      <td>0</td>\n",
       "      <td>1.21</td>\n",
       "      <td>1.35</td>\n",
       "      <td>1.99</td>\n",
       "      <td>...</td>\n",
       "      <td>47</td>\n",
       "      <td>1</td>\n",
       "      <td>110866</td>\n",
       "      <td>1</td>\n",
       "      <td>0</td>\n",
       "      <td>3</td>\n",
       "      <td>0</td>\n",
       "      <td>0</td>\n",
       "      <td>0</td>\n",
       "      <td>1</td>\n",
       "    </tr>\n",
       "    <tr>\n",
       "      <th>29</th>\n",
       "      <td>200000001</td>\n",
       "      <td>183</td>\n",
       "      <td>1</td>\n",
       "      <td>2</td>\n",
       "      <td>3</td>\n",
       "      <td>0</td>\n",
       "      <td>0</td>\n",
       "      <td>1.46</td>\n",
       "      <td>1.88</td>\n",
       "      <td>1.97</td>\n",
       "      <td>...</td>\n",
       "      <td>47</td>\n",
       "      <td>1</td>\n",
       "      <td>110866</td>\n",
       "      <td>1</td>\n",
       "      <td>0</td>\n",
       "      <td>3</td>\n",
       "      <td>0</td>\n",
       "      <td>0</td>\n",
       "      <td>0</td>\n",
       "      <td>1</td>\n",
       "    </tr>\n",
       "  </tbody>\n",
       "</table>\n",
       "<p>5 rows × 29 columns</p>\n",
       "</div>"
      ],
      "text/plain": [
       "           ID  Day  Incidence  Brand  Quantity  Last_Inc_Brand  \\\n",
       "6   200000001   28          1      2         2               0   \n",
       "11  200000001   58          1      5         1               0   \n",
       "19  200000001  110          1      1         2               0   \n",
       "24  200000001  142          1      4         1               0   \n",
       "29  200000001  183          1      2         3               0   \n",
       "\n",
       "    Last_Inc_Quantity  Price_1  Price_2  Price_3  ...  Age  Education  Income  \\\n",
       "6                   0     1.50     1.90     1.99  ...   47          1  110866   \n",
       "11                  0     1.39     1.90     1.91  ...   47          1  110866   \n",
       "19                  0     1.47     1.90     1.99  ...   47          1  110866   \n",
       "24                  0     1.21     1.35     1.99  ...   47          1  110866   \n",
       "29                  0     1.46     1.88     1.97  ...   47          1  110866   \n",
       "\n",
       "    Occupation  Settlement size  Segment  Segment_0  Segment_1  Segment_2  \\\n",
       "6            1                0        3          0          0          0   \n",
       "11           1                0        3          0          0          0   \n",
       "19           1                0        3          0          0          0   \n",
       "24           1                0        3          0          0          0   \n",
       "29           1                0        3          0          0          0   \n",
       "\n",
       "    Segment_3  \n",
       "6           1  \n",
       "11          1  \n",
       "19          1  \n",
       "24          1  \n",
       "29          1  \n",
       "\n",
       "[5 rows x 29 columns]"
      ]
     },
     "execution_count": 55,
     "metadata": {},
     "output_type": "execute_result"
    }
   ],
   "source": [
    "pd.options.display.max_rows = 100\n",
    "brand_choice.head(5)"
   ]
  },
  {
   "cell_type": "code",
   "execution_count": 56,
   "metadata": {},
   "outputs": [],
   "source": [
    "Y = brand_choice['Brand']"
   ]
  },
  {
   "cell_type": "code",
   "execution_count": 57,
   "metadata": {},
   "outputs": [
    {
     "data": {
      "text/plain": [
       "array(['ID', 'Day', 'Incidence', 'Brand', 'Quantity', 'Last_Inc_Brand',\n",
       "       'Last_Inc_Quantity', 'Price_1', 'Price_2', 'Price_3', 'Price_4',\n",
       "       'Price_5', 'Promotion_1', 'Promotion_2', 'Promotion_3',\n",
       "       'Promotion_4', 'Promotion_5', 'Sex', 'Marital status', 'Age',\n",
       "       'Education', 'Income', 'Occupation', 'Settlement size', 'Segment',\n",
       "       'Segment_0', 'Segment_1', 'Segment_2', 'Segment_3'], dtype=object)"
      ]
     },
     "execution_count": 57,
     "metadata": {},
     "output_type": "execute_result"
    }
   ],
   "source": [
    "brand_choice.columns.values"
   ]
  },
  {
   "cell_type": "code",
   "execution_count": 58,
   "metadata": {},
   "outputs": [],
   "source": [
    "features = ['Price_1', 'Price_2', 'Price_3', 'Price_4', 'Price_5']\n",
    "X = brand_choice[features]"
   ]
  },
  {
   "cell_type": "code",
   "execution_count": 59,
   "metadata": {},
   "outputs": [
    {
     "data": {
      "text/plain": [
       "LogisticRegression(multi_class='multinomial', solver='sag')"
      ]
     },
     "execution_count": 59,
     "metadata": {},
     "output_type": "execute_result"
    }
   ],
   "source": [
    "model_brand_choice = LogisticRegression(solver='sag', multi_class='multinomial')\n",
    "model_brand_choice.fit(X,Y)"
   ]
  },
  {
   "cell_type": "code",
   "execution_count": 60,
   "metadata": {},
   "outputs": [
    {
     "data": {
      "text/plain": [
       "array([[-3.91595431,  0.65845972,  2.41771979,  0.70408666, -0.20211049],\n",
       "       [ 1.27461417, -1.87985479, -0.21264054, -0.20634042,  0.58787131],\n",
       "       [ 1.62417954,  0.56210712,  0.50086995,  1.03950461,  0.45278628],\n",
       "       [ 0.57453907,  0.39558889, -1.40060257, -1.24624365,  0.24935151],\n",
       "       [ 0.44262153,  0.26369906, -1.30534663, -0.2910072 , -1.0878986 ]])"
      ]
     },
     "execution_count": 60,
     "metadata": {},
     "output_type": "execute_result"
    }
   ],
   "source": [
    "model_brand_choice.coef_"
   ]
  },
  {
   "cell_type": "code",
   "execution_count": 61,
   "metadata": {},
   "outputs": [
    {
     "data": {
      "text/html": [
       "<div>\n",
       "<style scoped>\n",
       "    .dataframe tbody tr th:only-of-type {\n",
       "        vertical-align: middle;\n",
       "    }\n",
       "\n",
       "    .dataframe tbody tr th {\n",
       "        vertical-align: top;\n",
       "    }\n",
       "\n",
       "    .dataframe thead th {\n",
       "        text-align: right;\n",
       "    }\n",
       "</style>\n",
       "<table border=\"1\" class=\"dataframe\">\n",
       "  <thead>\n",
       "    <tr style=\"text-align: right;\">\n",
       "      <th></th>\n",
       "      <th>0</th>\n",
       "      <th>1</th>\n",
       "      <th>2</th>\n",
       "      <th>3</th>\n",
       "      <th>4</th>\n",
       "    </tr>\n",
       "  </thead>\n",
       "  <tbody>\n",
       "    <tr>\n",
       "      <th>0</th>\n",
       "      <td>-3.915954</td>\n",
       "      <td>0.658460</td>\n",
       "      <td>2.417720</td>\n",
       "      <td>0.704087</td>\n",
       "      <td>-0.202110</td>\n",
       "    </tr>\n",
       "    <tr>\n",
       "      <th>1</th>\n",
       "      <td>1.274614</td>\n",
       "      <td>-1.879855</td>\n",
       "      <td>-0.212641</td>\n",
       "      <td>-0.206340</td>\n",
       "      <td>0.587871</td>\n",
       "    </tr>\n",
       "    <tr>\n",
       "      <th>2</th>\n",
       "      <td>1.624180</td>\n",
       "      <td>0.562107</td>\n",
       "      <td>0.500870</td>\n",
       "      <td>1.039505</td>\n",
       "      <td>0.452786</td>\n",
       "    </tr>\n",
       "    <tr>\n",
       "      <th>3</th>\n",
       "      <td>0.574539</td>\n",
       "      <td>0.395589</td>\n",
       "      <td>-1.400603</td>\n",
       "      <td>-1.246244</td>\n",
       "      <td>0.249352</td>\n",
       "    </tr>\n",
       "    <tr>\n",
       "      <th>4</th>\n",
       "      <td>0.442622</td>\n",
       "      <td>0.263699</td>\n",
       "      <td>-1.305347</td>\n",
       "      <td>-0.291007</td>\n",
       "      <td>-1.087899</td>\n",
       "    </tr>\n",
       "  </tbody>\n",
       "</table>\n",
       "</div>"
      ],
      "text/plain": [
       "          0         1         2         3         4\n",
       "0 -3.915954  0.658460  2.417720  0.704087 -0.202110\n",
       "1  1.274614 -1.879855 -0.212641 -0.206340  0.587871\n",
       "2  1.624180  0.562107  0.500870  1.039505  0.452786\n",
       "3  0.574539  0.395589 -1.400603 -1.246244  0.249352\n",
       "4  0.442622  0.263699 -1.305347 -0.291007 -1.087899"
      ]
     },
     "execution_count": 61,
     "metadata": {},
     "output_type": "execute_result"
    }
   ],
   "source": [
    "bc_coef = pd.DataFrame(model_brand_choice.coef_)\n",
    "bc_coef"
   ]
  },
  {
   "cell_type": "code",
   "execution_count": 62,
   "metadata": {},
   "outputs": [
    {
     "data": {
      "text/html": [
       "<div>\n",
       "<style scoped>\n",
       "    .dataframe tbody tr th:only-of-type {\n",
       "        vertical-align: middle;\n",
       "    }\n",
       "\n",
       "    .dataframe tbody tr th {\n",
       "        vertical-align: top;\n",
       "    }\n",
       "\n",
       "    .dataframe thead tr th {\n",
       "        text-align: left;\n",
       "    }\n",
       "</style>\n",
       "<table border=\"1\" class=\"dataframe\">\n",
       "  <thead>\n",
       "    <tr>\n",
       "      <th></th>\n",
       "      <th>Coef_Brand_1</th>\n",
       "      <th>Coef_Brand_2</th>\n",
       "      <th>Coef_Brand_3</th>\n",
       "      <th>Coef_Brand_4</th>\n",
       "      <th>Coef_Brand_5</th>\n",
       "    </tr>\n",
       "  </thead>\n",
       "  <tbody>\n",
       "    <tr>\n",
       "      <th>Price_1</th>\n",
       "      <td>-3.92</td>\n",
       "      <td>1.27</td>\n",
       "      <td>1.62</td>\n",
       "      <td>0.57</td>\n",
       "      <td>0.44</td>\n",
       "    </tr>\n",
       "    <tr>\n",
       "      <th>Price_2</th>\n",
       "      <td>0.66</td>\n",
       "      <td>-1.88</td>\n",
       "      <td>0.56</td>\n",
       "      <td>0.40</td>\n",
       "      <td>0.26</td>\n",
       "    </tr>\n",
       "    <tr>\n",
       "      <th>Price_3</th>\n",
       "      <td>2.42</td>\n",
       "      <td>-0.21</td>\n",
       "      <td>0.50</td>\n",
       "      <td>-1.40</td>\n",
       "      <td>-1.31</td>\n",
       "    </tr>\n",
       "    <tr>\n",
       "      <th>Price_4</th>\n",
       "      <td>0.70</td>\n",
       "      <td>-0.21</td>\n",
       "      <td>1.04</td>\n",
       "      <td>-1.25</td>\n",
       "      <td>-0.29</td>\n",
       "    </tr>\n",
       "    <tr>\n",
       "      <th>Price_5</th>\n",
       "      <td>-0.20</td>\n",
       "      <td>0.59</td>\n",
       "      <td>0.45</td>\n",
       "      <td>0.25</td>\n",
       "      <td>-1.09</td>\n",
       "    </tr>\n",
       "  </tbody>\n",
       "</table>\n",
       "</div>"
      ],
      "text/plain": [
       "        Coef_Brand_1 Coef_Brand_2 Coef_Brand_3 Coef_Brand_4 Coef_Brand_5\n",
       "Price_1        -3.92         1.27         1.62         0.57         0.44\n",
       "Price_2         0.66        -1.88         0.56         0.40         0.26\n",
       "Price_3         2.42        -0.21         0.50        -1.40        -1.31\n",
       "Price_4         0.70        -0.21         1.04        -1.25        -0.29\n",
       "Price_5        -0.20         0.59         0.45         0.25        -1.09"
      ]
     },
     "execution_count": 62,
     "metadata": {},
     "output_type": "execute_result"
    }
   ],
   "source": [
    "bc_coef = pd.DataFrame(np.transpose(model_brand_choice.coef_))\n",
    "coefficients = ['Coef_Brand_1','Coef_Brand_2','Coef_Brand_3','Coef_Brand_4','Coef_Brand_5']\n",
    "bc_coef.columns = [coefficients]\n",
    "prices = ['Price_1', 'Price_2', 'Price_3', 'Price_4', 'Price_5']\n",
    "bc_coef.index = [prices]\n",
    "bc_coef = bc_coef.round(2)\n",
    "bc_coef"
   ]
  },
  {
   "cell_type": "markdown",
   "metadata": {},
   "source": [
    "## Own Price Elasticity Brand 5"
   ]
  },
  {
   "cell_type": "code",
   "execution_count": 63,
   "metadata": {},
   "outputs": [],
   "source": [
    "df_own_brand_5 = pd.DataFrame(np.arange(price_range.size))\n",
    "df_own_brand_5['Price_1'] = brand_choice['Price_1'].mean()\n",
    "df_own_brand_5['Price_2'] = brand_choice['Price_2'].mean()\n",
    "df_own_brand_5['Price_3'] = brand_choice['Price_3'].mean()\n",
    "df_own_brand_5['Price_4'] = brand_choice['Price_4'].mean()\n",
    "df_own_brand_5['Price_5'] = price_range"
   ]
  },
  {
   "cell_type": "code",
   "execution_count": 64,
   "metadata": {},
   "outputs": [],
   "source": [
    "df_own_brand_5 = df_own_brand_5.drop([0],axis=1)"
   ]
  },
  {
   "cell_type": "code",
   "execution_count": 66,
   "metadata": {},
   "outputs": [
    {
     "data": {
      "text/html": [
       "<div>\n",
       "<style scoped>\n",
       "    .dataframe tbody tr th:only-of-type {\n",
       "        vertical-align: middle;\n",
       "    }\n",
       "\n",
       "    .dataframe tbody tr th {\n",
       "        vertical-align: top;\n",
       "    }\n",
       "\n",
       "    .dataframe thead th {\n",
       "        text-align: right;\n",
       "    }\n",
       "</style>\n",
       "<table border=\"1\" class=\"dataframe\">\n",
       "  <thead>\n",
       "    <tr style=\"text-align: right;\">\n",
       "      <th></th>\n",
       "      <th>Price_1</th>\n",
       "      <th>Price_2</th>\n",
       "      <th>Price_3</th>\n",
       "      <th>Price_4</th>\n",
       "      <th>Price_5</th>\n",
       "    </tr>\n",
       "  </thead>\n",
       "  <tbody>\n",
       "    <tr>\n",
       "      <th>0</th>\n",
       "      <td>1.384559</td>\n",
       "      <td>1.764717</td>\n",
       "      <td>2.006694</td>\n",
       "      <td>2.159658</td>\n",
       "      <td>0.50</td>\n",
       "    </tr>\n",
       "    <tr>\n",
       "      <th>1</th>\n",
       "      <td>1.384559</td>\n",
       "      <td>1.764717</td>\n",
       "      <td>2.006694</td>\n",
       "      <td>2.159658</td>\n",
       "      <td>0.51</td>\n",
       "    </tr>\n",
       "    <tr>\n",
       "      <th>2</th>\n",
       "      <td>1.384559</td>\n",
       "      <td>1.764717</td>\n",
       "      <td>2.006694</td>\n",
       "      <td>2.159658</td>\n",
       "      <td>0.52</td>\n",
       "    </tr>\n",
       "    <tr>\n",
       "      <th>3</th>\n",
       "      <td>1.384559</td>\n",
       "      <td>1.764717</td>\n",
       "      <td>2.006694</td>\n",
       "      <td>2.159658</td>\n",
       "      <td>0.53</td>\n",
       "    </tr>\n",
       "    <tr>\n",
       "      <th>4</th>\n",
       "      <td>1.384559</td>\n",
       "      <td>1.764717</td>\n",
       "      <td>2.006694</td>\n",
       "      <td>2.159658</td>\n",
       "      <td>0.54</td>\n",
       "    </tr>\n",
       "  </tbody>\n",
       "</table>\n",
       "</div>"
      ],
      "text/plain": [
       "    Price_1   Price_2   Price_3   Price_4  Price_5\n",
       "0  1.384559  1.764717  2.006694  2.159658     0.50\n",
       "1  1.384559  1.764717  2.006694  2.159658     0.51\n",
       "2  1.384559  1.764717  2.006694  2.159658     0.52\n",
       "3  1.384559  1.764717  2.006694  2.159658     0.53\n",
       "4  1.384559  1.764717  2.006694  2.159658     0.54"
      ]
     },
     "execution_count": 66,
     "metadata": {},
     "output_type": "execute_result"
    }
   ],
   "source": [
    "df_own_brand_5.head(5)"
   ]
  },
  {
   "cell_type": "code",
   "execution_count": 67,
   "metadata": {},
   "outputs": [],
   "source": [
    "predict_brand_5 = model_brand_choice.predict_proba(df_own_brand_5)"
   ]
  },
  {
   "cell_type": "code",
   "execution_count": 68,
   "metadata": {},
   "outputs": [],
   "source": [
    "pr_own_brand_5 = predict_brand_5[:][:, 4]"
   ]
  },
  {
   "cell_type": "code",
   "execution_count": 69,
   "metadata": {},
   "outputs": [
    {
     "data": {
      "text/plain": [
       "-1.09"
      ]
     },
     "execution_count": 69,
     "metadata": {},
     "output_type": "execute_result"
    }
   ],
   "source": [
    "beta5 = bc_coef.iloc[4,4]\n",
    "beta5"
   ]
  },
  {
   "cell_type": "code",
   "execution_count": 70,
   "metadata": {},
   "outputs": [],
   "source": [
    "own_price_elasticity_brand_5 = beta5 * price_range * (1 - pr_own_brand_5)"
   ]
  },
  {
   "cell_type": "code",
   "execution_count": 71,
   "metadata": {},
   "outputs": [],
   "source": [
    "df_price_elasticities['Brand_5'] = own_price_elasticity_brand_5"
   ]
  },
  {
   "cell_type": "code",
   "execution_count": 73,
   "metadata": {},
   "outputs": [
    {
     "data": {
      "image/png": "[encoded data removed]",
      "text/plain": [
       "<Figure size 648x432 with 1 Axes>"
      ]
     },
     "metadata": {},
     "output_type": "display_data"
    }
   ],
   "source": [
    "plt.figure(figsize=(9,6))\n",
    "plt.plot(price_range, own_price_elasticity_brand_5, color = 'grey')\n",
    "plt.xlabel = 'Price 5'\n",
    "plt.ylabel = 'Elasticity'\n",
    "plt.title('Own price elasticity of Purchase probability of brand 5')\n",
    "plt.show()"
   ]
  },
  {
   "cell_type": "markdown",
   "metadata": {},
   "source": [
    "# Cross Price Elasticity Brand 5, Cross Brand 4"
   ]
  },
  {
   "cell_type": "code",
   "execution_count": 74,
   "metadata": {},
   "outputs": [],
   "source": [
    "df_brand5_cross_brand4 = pd.DataFrame(index = np.arange(price_range.size))"
   ]
  },
  {
   "cell_type": "code",
   "execution_count": 75,
   "metadata": {},
   "outputs": [],
   "source": [
    "df_brand5_cross_brand4['Price_1'] = brand_choice['Price_1'].mean()\n",
    "df_brand5_cross_brand4['Price_2'] = brand_choice['Price_2'].mean()\n",
    "df_brand5_cross_brand4['Price_3'] = brand_choice['Price_3'].mean()\n",
    "df_brand5_cross_brand4['Price_4'] = price_range\n",
    "df_brand5_cross_brand4['Price_5'] = brand_choice['Price_5'].mean()"
   ]
  },
  {
   "cell_type": "code",
   "execution_count": 76,
   "metadata": {},
   "outputs": [
    {
     "data": {
      "text/html": [
       "<div>\n",
       "<style scoped>\n",
       "    .dataframe tbody tr th:only-of-type {\n",
       "        vertical-align: middle;\n",
       "    }\n",
       "\n",
       "    .dataframe tbody tr th {\n",
       "        vertical-align: top;\n",
       "    }\n",
       "\n",
       "    .dataframe thead th {\n",
       "        text-align: right;\n",
       "    }\n",
       "</style>\n",
       "<table border=\"1\" class=\"dataframe\">\n",
       "  <thead>\n",
       "    <tr style=\"text-align: right;\">\n",
       "      <th></th>\n",
       "      <th>Price_1</th>\n",
       "      <th>Price_2</th>\n",
       "      <th>Price_3</th>\n",
       "      <th>Price_4</th>\n",
       "      <th>Price_5</th>\n",
       "    </tr>\n",
       "  </thead>\n",
       "  <tbody>\n",
       "    <tr>\n",
       "      <th>0</th>\n",
       "      <td>1.384559</td>\n",
       "      <td>1.764717</td>\n",
       "      <td>2.006694</td>\n",
       "      <td>0.50</td>\n",
       "      <td>2.654296</td>\n",
       "    </tr>\n",
       "    <tr>\n",
       "      <th>1</th>\n",
       "      <td>1.384559</td>\n",
       "      <td>1.764717</td>\n",
       "      <td>2.006694</td>\n",
       "      <td>0.51</td>\n",
       "      <td>2.654296</td>\n",
       "    </tr>\n",
       "    <tr>\n",
       "      <th>2</th>\n",
       "      <td>1.384559</td>\n",
       "      <td>1.764717</td>\n",
       "      <td>2.006694</td>\n",
       "      <td>0.52</td>\n",
       "      <td>2.654296</td>\n",
       "    </tr>\n",
       "    <tr>\n",
       "      <th>3</th>\n",
       "      <td>1.384559</td>\n",
       "      <td>1.764717</td>\n",
       "      <td>2.006694</td>\n",
       "      <td>0.53</td>\n",
       "      <td>2.654296</td>\n",
       "    </tr>\n",
       "    <tr>\n",
       "      <th>4</th>\n",
       "      <td>1.384559</td>\n",
       "      <td>1.764717</td>\n",
       "      <td>2.006694</td>\n",
       "      <td>0.54</td>\n",
       "      <td>2.654296</td>\n",
       "    </tr>\n",
       "  </tbody>\n",
       "</table>\n",
       "</div>"
      ],
      "text/plain": [
       "    Price_1   Price_2   Price_3  Price_4   Price_5\n",
       "0  1.384559  1.764717  2.006694     0.50  2.654296\n",
       "1  1.384559  1.764717  2.006694     0.51  2.654296\n",
       "2  1.384559  1.764717  2.006694     0.52  2.654296\n",
       "3  1.384559  1.764717  2.006694     0.53  2.654296\n",
       "4  1.384559  1.764717  2.006694     0.54  2.654296"
      ]
     },
     "execution_count": 76,
     "metadata": {},
     "output_type": "execute_result"
    }
   ],
   "source": [
    "df_brand5_cross_brand4.head()"
   ]
  },
  {
   "cell_type": "code",
   "execution_count": 77,
   "metadata": {},
   "outputs": [],
   "source": [
    "predict_brand5_cross_brand4 = model_brand_choice.predict_proba(df_brand5_cross_brand4)"
   ]
  },
  {
   "cell_type": "code",
   "execution_count": 78,
   "metadata": {},
   "outputs": [],
   "source": [
    "pr_brand4 = predict_brand5_cross_brand4[:][:,3]"
   ]
  },
  {
   "cell_type": "code",
   "execution_count": 79,
   "metadata": {},
   "outputs": [
    {
     "data": {
      "text/plain": [
       "-1.09"
      ]
     },
     "execution_count": 79,
     "metadata": {},
     "output_type": "execute_result"
    }
   ],
   "source": [
    "beta5"
   ]
  },
  {
   "cell_type": "code",
   "execution_count": 80,
   "metadata": {},
   "outputs": [],
   "source": [
    "brand5_cross_brand4_price_elasticity = -beta5 * price_range * pr_brand4"
   ]
  },
  {
   "cell_type": "code",
   "execution_count": 82,
   "metadata": {},
   "outputs": [],
   "source": [
    "df_price_elasticities['Brand5_cross_Brand4'] = brand5_cross_brand4_price_elasticity"
   ]
  },
  {
   "cell_type": "code",
   "execution_count": 83,
   "metadata": {},
   "outputs": [
    {
     "data": {
      "image/png": "[encoded data removed]",
      "text/plain": [
       "<Figure size 648x432 with 1 Axes>"
      ]
     },
     "metadata": {},
     "output_type": "display_data"
    }
   ],
   "source": [
    "plt.figure(figsize=(9,6))\n",
    "plt.plot(price_range, brand5_cross_brand4_price_elasticity, color = 'grey')\n",
    "plt.xlabel = 'Price 5'\n",
    "plt.ylabel = 'Elasticity'\n",
    "plt.title('Cross price elasticity Brand 5 wrt to Brand 4')\n",
    "plt.show()"
   ]
  },
  {
   "cell_type": "markdown",
   "metadata": {},
   "source": [
    "## Own and Cross-Price Elasticity by Segment"
   ]
  },
  {
   "cell_type": "markdown",
   "metadata": {},
   "source": [
    "### Well-off"
   ]
  },
  {
   "cell_type": "code",
   "execution_count": 85,
   "metadata": {},
   "outputs": [
    {
     "data": {
      "text/html": [
       "<div>\n",
       "<style scoped>\n",
       "    .dataframe tbody tr th:only-of-type {\n",
       "        vertical-align: middle;\n",
       "    }\n",
       "\n",
       "    .dataframe tbody tr th {\n",
       "        vertical-align: top;\n",
       "    }\n",
       "\n",
       "    .dataframe thead th {\n",
       "        text-align: right;\n",
       "    }\n",
       "</style>\n",
       "<table border=\"1\" class=\"dataframe\">\n",
       "  <thead>\n",
       "    <tr style=\"text-align: right;\">\n",
       "      <th></th>\n",
       "      <th>ID</th>\n",
       "      <th>Day</th>\n",
       "      <th>Incidence</th>\n",
       "      <th>Brand</th>\n",
       "      <th>Quantity</th>\n",
       "      <th>Last_Inc_Brand</th>\n",
       "      <th>Last_Inc_Quantity</th>\n",
       "      <th>Price_1</th>\n",
       "      <th>Price_2</th>\n",
       "      <th>Price_3</th>\n",
       "      <th>...</th>\n",
       "      <th>Age</th>\n",
       "      <th>Education</th>\n",
       "      <th>Income</th>\n",
       "      <th>Occupation</th>\n",
       "      <th>Settlement size</th>\n",
       "      <th>Segment</th>\n",
       "      <th>Segment_0</th>\n",
       "      <th>Segment_1</th>\n",
       "      <th>Segment_2</th>\n",
       "      <th>Segment_3</th>\n",
       "    </tr>\n",
       "  </thead>\n",
       "  <tbody>\n",
       "    <tr>\n",
       "      <th>101</th>\n",
       "      <td>200000002</td>\n",
       "      <td>6</td>\n",
       "      <td>1</td>\n",
       "      <td>4</td>\n",
       "      <td>1</td>\n",
       "      <td>0</td>\n",
       "      <td>0</td>\n",
       "      <td>1.59</td>\n",
       "      <td>1.87</td>\n",
       "      <td>2.01</td>\n",
       "      <td>...</td>\n",
       "      <td>52</td>\n",
       "      <td>2</td>\n",
       "      <td>159052</td>\n",
       "      <td>2</td>\n",
       "      <td>1</td>\n",
       "      <td>1</td>\n",
       "      <td>0</td>\n",
       "      <td>1</td>\n",
       "      <td>0</td>\n",
       "      <td>0</td>\n",
       "    </tr>\n",
       "    <tr>\n",
       "      <th>115</th>\n",
       "      <td>200000002</td>\n",
       "      <td>100</td>\n",
       "      <td>1</td>\n",
       "      <td>4</td>\n",
       "      <td>2</td>\n",
       "      <td>0</td>\n",
       "      <td>0</td>\n",
       "      <td>1.47</td>\n",
       "      <td>1.90</td>\n",
       "      <td>1.95</td>\n",
       "      <td>...</td>\n",
       "      <td>52</td>\n",
       "      <td>2</td>\n",
       "      <td>159052</td>\n",
       "      <td>2</td>\n",
       "      <td>1</td>\n",
       "      <td>1</td>\n",
       "      <td>0</td>\n",
       "      <td>1</td>\n",
       "      <td>0</td>\n",
       "      <td>0</td>\n",
       "    </tr>\n",
       "    <tr>\n",
       "      <th>138</th>\n",
       "      <td>200000002</td>\n",
       "      <td>283</td>\n",
       "      <td>1</td>\n",
       "      <td>4</td>\n",
       "      <td>3</td>\n",
       "      <td>0</td>\n",
       "      <td>0</td>\n",
       "      <td>1.37</td>\n",
       "      <td>1.89</td>\n",
       "      <td>2.00</td>\n",
       "      <td>...</td>\n",
       "      <td>52</td>\n",
       "      <td>2</td>\n",
       "      <td>159052</td>\n",
       "      <td>2</td>\n",
       "      <td>1</td>\n",
       "      <td>1</td>\n",
       "      <td>0</td>\n",
       "      <td>1</td>\n",
       "      <td>0</td>\n",
       "      <td>0</td>\n",
       "    </tr>\n",
       "    <tr>\n",
       "      <th>141</th>\n",
       "      <td>200000002</td>\n",
       "      <td>307</td>\n",
       "      <td>1</td>\n",
       "      <td>4</td>\n",
       "      <td>1</td>\n",
       "      <td>0</td>\n",
       "      <td>0</td>\n",
       "      <td>1.34</td>\n",
       "      <td>1.89</td>\n",
       "      <td>2.01</td>\n",
       "      <td>...</td>\n",
       "      <td>52</td>\n",
       "      <td>2</td>\n",
       "      <td>159052</td>\n",
       "      <td>2</td>\n",
       "      <td>1</td>\n",
       "      <td>1</td>\n",
       "      <td>0</td>\n",
       "      <td>1</td>\n",
       "      <td>0</td>\n",
       "      <td>0</td>\n",
       "    </tr>\n",
       "    <tr>\n",
       "      <th>153</th>\n",
       "      <td>200000002</td>\n",
       "      <td>422</td>\n",
       "      <td>1</td>\n",
       "      <td>4</td>\n",
       "      <td>1</td>\n",
       "      <td>0</td>\n",
       "      <td>0</td>\n",
       "      <td>1.34</td>\n",
       "      <td>1.89</td>\n",
       "      <td>2.02</td>\n",
       "      <td>...</td>\n",
       "      <td>52</td>\n",
       "      <td>2</td>\n",
       "      <td>159052</td>\n",
       "      <td>2</td>\n",
       "      <td>1</td>\n",
       "      <td>1</td>\n",
       "      <td>0</td>\n",
       "      <td>1</td>\n",
       "      <td>0</td>\n",
       "      <td>0</td>\n",
       "    </tr>\n",
       "  </tbody>\n",
       "</table>\n",
       "<p>5 rows × 29 columns</p>\n",
       "</div>"
      ],
      "text/plain": [
       "            ID  Day  Incidence  Brand  Quantity  Last_Inc_Brand  \\\n",
       "101  200000002    6          1      4         1               0   \n",
       "115  200000002  100          1      4         2               0   \n",
       "138  200000002  283          1      4         3               0   \n",
       "141  200000002  307          1      4         1               0   \n",
       "153  200000002  422          1      4         1               0   \n",
       "\n",
       "     Last_Inc_Quantity  Price_1  Price_2  Price_3  ...  Age  Education  \\\n",
       "101                  0     1.59     1.87     2.01  ...   52          2   \n",
       "115                  0     1.47     1.90     1.95  ...   52          2   \n",
       "138                  0     1.37     1.89     2.00  ...   52          2   \n",
       "141                  0     1.34     1.89     2.01  ...   52          2   \n",
       "153                  0     1.34     1.89     2.02  ...   52          2   \n",
       "\n",
       "     Income  Occupation  Settlement size  Segment  Segment_0  Segment_1  \\\n",
       "101  159052           2                1        1          0          1   \n",
       "115  159052           2                1        1          0          1   \n",
       "138  159052           2                1        1          0          1   \n",
       "141  159052           2                1        1          0          1   \n",
       "153  159052           2                1        1          0          1   \n",
       "\n",
       "     Segment_2  Segment_3  \n",
       "101          0          0  \n",
       "115          0          0  \n",
       "138          0          0  \n",
       "141          0          0  \n",
       "153          0          0  \n",
       "\n",
       "[5 rows x 29 columns]"
      ]
     },
     "execution_count": 85,
     "metadata": {},
     "output_type": "execute_result"
    }
   ],
   "source": [
    "brand_choice_s1 = df_pa[df_pa['Incidence'] == 1]\n",
    "brand_choice_s1 = brand_choice_s1[brand_choice_s1['Segment'] == 1]\n",
    "\n",
    "brand_choice_s1.head(5)"
   ]
  },
  {
   "cell_type": "code",
   "execution_count": 86,
   "metadata": {},
   "outputs": [
    {
     "data": {
      "text/html": [
       "<div>\n",
       "<style scoped>\n",
       "    .dataframe tbody tr th:only-of-type {\n",
       "        vertical-align: middle;\n",
       "    }\n",
       "\n",
       "    .dataframe tbody tr th {\n",
       "        vertical-align: top;\n",
       "    }\n",
       "\n",
       "    .dataframe thead tr th {\n",
       "        text-align: left;\n",
       "    }\n",
       "</style>\n",
       "<table border=\"1\" class=\"dataframe\">\n",
       "  <thead>\n",
       "    <tr>\n",
       "      <th></th>\n",
       "      <th>Coef_Brand_1</th>\n",
       "      <th>Coef_Brand_2</th>\n",
       "      <th>Coef_Brand_3</th>\n",
       "      <th>Coef_Brand_4</th>\n",
       "      <th>Coef_Brand_5</th>\n",
       "    </tr>\n",
       "  </thead>\n",
       "  <tbody>\n",
       "    <tr>\n",
       "      <th>Price_1</th>\n",
       "      <td>-2.15</td>\n",
       "      <td>1.33</td>\n",
       "      <td>0.82</td>\n",
       "      <td>0.12</td>\n",
       "      <td>-0.11</td>\n",
       "    </tr>\n",
       "    <tr>\n",
       "      <th>Price_2</th>\n",
       "      <td>-0.96</td>\n",
       "      <td>-1.38</td>\n",
       "      <td>1.29</td>\n",
       "      <td>0.78</td>\n",
       "      <td>0.27</td>\n",
       "    </tr>\n",
       "    <tr>\n",
       "      <th>Price_3</th>\n",
       "      <td>2.01</td>\n",
       "      <td>-1.65</td>\n",
       "      <td>-0.49</td>\n",
       "      <td>0.03</td>\n",
       "      <td>0.11</td>\n",
       "    </tr>\n",
       "    <tr>\n",
       "      <th>Price_4</th>\n",
       "      <td>2.52</td>\n",
       "      <td>0.96</td>\n",
       "      <td>-0.25</td>\n",
       "      <td>-1.90</td>\n",
       "      <td>-1.33</td>\n",
       "    </tr>\n",
       "    <tr>\n",
       "      <th>Price_5</th>\n",
       "      <td>-0.99</td>\n",
       "      <td>-0.30</td>\n",
       "      <td>1.17</td>\n",
       "      <td>0.56</td>\n",
       "      <td>-0.44</td>\n",
       "    </tr>\n",
       "  </tbody>\n",
       "</table>\n",
       "</div>"
      ],
      "text/plain": [
       "        Coef_Brand_1 Coef_Brand_2 Coef_Brand_3 Coef_Brand_4 Coef_Brand_5\n",
       "Price_1        -2.15         1.33         0.82         0.12        -0.11\n",
       "Price_2        -0.96        -1.38         1.29         0.78         0.27\n",
       "Price_3         2.01        -1.65        -0.49         0.03         0.11\n",
       "Price_4         2.52         0.96        -0.25        -1.90        -1.33\n",
       "Price_5        -0.99        -0.30         1.17         0.56        -0.44"
      ]
     },
     "execution_count": 86,
     "metadata": {},
     "output_type": "execute_result"
    }
   ],
   "source": [
    "# Brand Choice Model estimation.\n",
    "Y = brand_choice_s1['Brand']\n",
    "brand_choice_s1 = pd.get_dummies(brand_choice_s1, columns=['Brand'], prefix = 'Brand', prefix_sep = '_')\n",
    "X = brand_choice_s1[features]\n",
    "model_brand_choice_s1 = LogisticRegression(solver = 'sag', multi_class = 'multinomial', max_iter = 300)\n",
    "model_brand_choice_s1.fit(X, Y)\n",
    "\n",
    "# Coefficients table for segment 3\n",
    "bc_coef = pd.DataFrame(np.transpose(model_brand_choice_s1.coef_))\n",
    "bc_coef.columns = [coefficients]\n",
    "bc_coef.index = [prices]\n",
    "bc_coef = bc_coef.round(2)\n",
    "bc_coef"
   ]
  },
  {
   "cell_type": "code",
   "execution_count": 87,
   "metadata": {},
   "outputs": [],
   "source": [
    "# Calculating own-brand price elasticity for brand 5 and the Well-off segment.\n",
    "df_own_brand_5_s1 = pd.DataFrame(index = np.arange(price_range.size))\n",
    "df_own_brand_5_s1['Price_1'] = brand_choice_s1['Price_1'].mean()\n",
    "df_own_brand_5_s1['Price_2'] = brand_choice_s1['Price_2'].mean()\n",
    "df_own_brand_5_s1['Price_3'] = brand_choice_s1['Price_3'].mean()\n",
    "df_own_brand_5_s1['Price_4'] = brand_choice_s1['Price_4'].mean()\n",
    "df_own_brand_5_s1['Price_5'] = price_range\n",
    "\n",
    "predict_own_brand_5_s1 = model_brand_choice_s1.predict_proba(df_own_brand_5_s1)\n",
    "pr_own_brand_5_s1 = predict_own_brand_5_s1[: ][: , 4]\n",
    "\n",
    "own_price_elasticity_brand_5_s1 =  beta5 * price_range * (1 - pr_own_brand_5_s1)\n",
    "df_price_elasticities['Brand 5 S1'] = own_price_elasticity_brand_5_s1"
   ]
  },
  {
   "cell_type": "markdown",
   "metadata": {},
   "source": [
    "### Cross Brand Price Elasticity"
   ]
  },
  {
   "cell_type": "code",
   "execution_count": 90,
   "metadata": {},
   "outputs": [],
   "source": [
    "df_brand5_cross_brand4_s1 = pd.DataFrame(index = np.arange(price_range.size))\n",
    "df_brand5_cross_brand4_s1['Price_1'] = brand_choice_s1['Price_1'].mean()\n",
    "df_brand5_cross_brand4_s1['Price_2'] = brand_choice_s1['Price_2'].mean()\n",
    "df_brand5_cross_brand4_s1['Price_3'] = brand_choice_s1['Price_3'].mean()\n",
    "df_brand5_cross_brand4_s1['Price_4'] = price_range\n",
    "df_brand5_cross_brand4_s1['Price_5'] = brand_choice_s1['Price_5'].mean()\n",
    "\n",
    "predict_brand5_cross_brand4_s1 = model_brand_choice_s1.predict_proba(df_brand5_cross_brand4_s1)\n",
    "pr_cross_brand_5_s1 = predict_brand5_cross_brand4_s1[: ][: , 3]\n",
    "\n",
    "# Update master data frame to include the newly obtained cross-brand price elasticities.\n",
    "brand5_cross_brand4_price_elasticity_s1 = -beta5 * price_range * pr_cross_brand_5_s1\n",
    "df_price_elasticities['Brand_5_Cross_Brand_4_S1'] = brand5_cross_brand4_price_elasticity_s1"
   ]
  },
  {
   "cell_type": "code",
   "execution_count": 91,
   "metadata": {},
   "outputs": [
    {
     "data": {
      "image/png": "[encoded data removed]",
      "text/plain": [
       "<Figure size 1008x288 with 2 Axes>"
      ]
     },
     "metadata": {},
     "output_type": "display_data"
    }
   ],
   "source": [
    "fig, axs = plt.subplots(1, 2, figsize = (14, 4))\n",
    "axs[0].plot(price_range, own_price_elasticity_brand_5_s1, color = 'orange')\n",
    "axs[0].set_title('Brand 5 Segment Well-Off')\n",
    "axs[0].set_xlabel('Price 5')\n",
    "\n",
    "axs[1].plot(price_range, brand5_cross_brand4_price_elasticity_s1, color = 'orange')\n",
    "axs[1].set_title('Cross Price Elasticity of Brand 5 wrt Brand 4 Segment Well-Off')\n",
    "axs[1].set_xlabel('Price 4')\n",
    "\n",
    "for ax in axs.flat:\n",
    "    ax.set(ylabel = 'Elasticity')"
   ]
  },
  {
   "cell_type": "markdown",
   "metadata": {},
   "source": [
    "## Career Focused"
   ]
  },
  {
   "cell_type": "code",
   "execution_count": 92,
   "metadata": {},
   "outputs": [],
   "source": [
    "brand_choice_s2 = df_pa[df_pa['Incidence'] == 1]\n",
    "brand_choice_s2 = brand_choice_s2[brand_choice_s2['Segment'] == 2]"
   ]
  },
  {
   "cell_type": "code",
   "execution_count": 93,
   "metadata": {},
   "outputs": [],
   "source": [
    "# Brand Choice Model estimation.\n",
    "Y = brand_choice_s2['Brand']\n",
    "brand_choice_s2 = pd.get_dummies(brand_choice_s2, columns=['Brand'], prefix = 'Brand', prefix_sep = '_')\n",
    "X = brand_choice_s2[features]\n",
    "model_brand_choice_s2 = LogisticRegression(solver = 'sag', multi_class = 'multinomial', max_iter = 300)\n",
    "model_brand_choice_s2.fit(X, Y)\n",
    "\n",
    "# Coefficients table for segment 3\n",
    "bc_coef = pd.DataFrame(np.transpose(model_brand_choice_s2.coef_))\n",
    "bc_coef.columns = [coefficients]\n",
    "bc_coef.index = [prices]\n",
    "bc_coef = bc_coef.round(2)"
   ]
  },
  {
   "cell_type": "code",
   "execution_count": 94,
   "metadata": {},
   "outputs": [],
   "source": [
    "# Calculating own-brand price elasticity for brand 5 and the Well-off segment.\n",
    "df_own_brand_5_s2 = pd.DataFrame(index = np.arange(price_range.size))\n",
    "df_own_brand_5_s2['Price_1'] = brand_choice_s2['Price_1'].mean()\n",
    "df_own_brand_5_s2['Price_2'] = brand_choice_s2['Price_2'].mean()\n",
    "df_own_brand_5_s2['Price_3'] = brand_choice_s2['Price_3'].mean()\n",
    "df_own_brand_5_s2['Price_4'] = brand_choice_s2['Price_4'].mean()\n",
    "df_own_brand_5_s2['Price_5'] = price_range\n",
    "\n",
    "predict_own_brand_5_s2 = model_brand_choice_s2.predict_proba(df_own_brand_5_s2)\n",
    "pr_own_brand_5_s2 = predict_own_brand_5_s2[: ][: , 4]\n",
    "\n",
    "own_price_elasticity_brand_5_s2 =  beta5 * price_range * (1 - pr_own_brand_5_s2)\n",
    "df_price_elasticities['Brand 5 S2'] = own_price_elasticity_brand_5_s2"
   ]
  },
  {
   "cell_type": "code",
   "execution_count": 95,
   "metadata": {},
   "outputs": [],
   "source": [
    "df_brand5_cross_brand4_s2 = pd.DataFrame(index = np.arange(price_range.size))\n",
    "df_brand5_cross_brand4_s2['Price_1'] = brand_choice_s2['Price_1'].mean()\n",
    "df_brand5_cross_brand4_s2['Price_2'] = brand_choice_s2['Price_2'].mean()\n",
    "df_brand5_cross_brand4_s2['Price_3'] = brand_choice_s2['Price_3'].mean()\n",
    "df_brand5_cross_brand4_s2['Price_4'] = price_range\n",
    "df_brand5_cross_brand4_s2['Price_5'] = brand_choice_s2['Price_5'].mean()\n",
    "\n",
    "predict_brand5_cross_brand4_s2 = model_brand_choice_s2.predict_proba(df_brand5_cross_brand4_s1)\n",
    "pr_cross_brand_5_s2 = predict_brand5_cross_brand4_s2[: ][: , 3]\n",
    "\n",
    "# Update master data frame to include the newly obtained cross-brand price elasticities.\n",
    "brand5_cross_brand4_price_elasticity_s2 = -beta5 * price_range * pr_cross_brand_5_s2\n",
    "df_price_elasticities['Brand_5_Cross_Brand_4_S2'] = brand5_cross_brand4_price_elasticity_s2"
   ]
  },
  {
   "cell_type": "code",
   "execution_count": 96,
   "metadata": {},
   "outputs": [
    {
     "data": {
      "image/png": "[encoded data removed]",
      "text/plain": [
       "<Figure size 1008x288 with 2 Axes>"
      ]
     },
     "metadata": {},
     "output_type": "display_data"
    }
   ],
   "source": [
    "fig, axs = plt.subplots(1, 2, figsize = (14, 4))\n",
    "axs[0].plot(price_range, own_price_elasticity_brand_5_s2, color = 'b')\n",
    "axs[0].set_title('Brand 5 Segment Career Focused')\n",
    "axs[0].set_xlabel('Price 5')\n",
    "\n",
    "axs[1].plot(price_range, brand5_cross_brand4_price_elasticity_s2, color = 'b')\n",
    "axs[1].set_title('Cross Price Elasticity of Brand 5 wrt Brand 4 Segment Career Focused')\n",
    "axs[1].set_xlabel('Price 4')\n",
    "\n",
    "for ax in axs.flat:\n",
    "    ax.set(ylabel = 'Elasticity')"
   ]
  },
  {
   "cell_type": "markdown",
   "metadata": {},
   "source": [
    "## Fewer - opp"
   ]
  },
  {
   "cell_type": "code",
   "execution_count": 97,
   "metadata": {},
   "outputs": [],
   "source": [
    "brand_choice_s3 = df_pa[df_pa['Incidence'] == 1]\n",
    "brand_choice_s3 = brand_choice_s3[brand_choice_s3['Segment'] == 3]"
   ]
  },
  {
   "cell_type": "code",
   "execution_count": 98,
   "metadata": {},
   "outputs": [],
   "source": [
    "# Brand Choice Model estimation.\n",
    "Y = brand_choice_s3['Brand']\n",
    "brand_choice_s3 = pd.get_dummies(brand_choice_s3, columns=['Brand'], prefix = 'Brand', prefix_sep = '_')\n",
    "X = brand_choice_s3[features]\n",
    "model_brand_choice_s3 = LogisticRegression(solver = 'sag', multi_class = 'multinomial', max_iter = 300)\n",
    "model_brand_choice_s3.fit(X, Y)\n",
    "\n",
    "# Coefficients table for segment 3\n",
    "bc_coef = pd.DataFrame(np.transpose(model_brand_choice_s3.coef_))\n",
    "bc_coef.columns = [coefficients]\n",
    "bc_coef.index = [prices]\n",
    "bc_coef = bc_coef.round(2)"
   ]
  },
  {
   "cell_type": "code",
   "execution_count": 99,
   "metadata": {},
   "outputs": [],
   "source": [
    "df_own_brand_5_s3 = pd.DataFrame(index = np.arange(price_range.size))\n",
    "df_own_brand_5_s3['Price_1'] = brand_choice_s3['Price_1'].mean()\n",
    "df_own_brand_5_s3['Price_2'] = brand_choice_s3['Price_2'].mean()\n",
    "df_own_brand_5_s3['Price_3'] = brand_choice_s3['Price_3'].mean()\n",
    "df_own_brand_5_s3['Price_4'] = brand_choice_s3['Price_4'].mean()\n",
    "df_own_brand_5_s3['Price_5'] = price_range\n",
    "\n",
    "predict_own_brand_5_s3 = model_brand_choice_s3.predict_proba(df_own_brand_5_s3)\n",
    "pr_own_brand_5_s3 = predict_own_brand_5_s3[: ][: , 4]\n",
    "\n",
    "own_price_elasticity_brand_5_s3 =  beta5 * price_range * (1 - pr_own_brand_5_s3)\n",
    "df_price_elasticities['Brand 5 S3'] = own_price_elasticity_brand_5_s3"
   ]
  },
  {
   "cell_type": "code",
   "execution_count": 101,
   "metadata": {},
   "outputs": [
    {
     "data": {
      "text/html": [
       "<div>\n",
       "<style scoped>\n",
       "    .dataframe tbody tr th:only-of-type {\n",
       "        vertical-align: middle;\n",
       "    }\n",
       "\n",
       "    .dataframe tbody tr th {\n",
       "        vertical-align: top;\n",
       "    }\n",
       "\n",
       "    .dataframe thead th {\n",
       "        text-align: right;\n",
       "    }\n",
       "</style>\n",
       "<table border=\"1\" class=\"dataframe\">\n",
       "  <thead>\n",
       "    <tr style=\"text-align: right;\">\n",
       "      <th></th>\n",
       "      <th>Price_Point</th>\n",
       "      <th>Mean_PE</th>\n",
       "      <th>PE_segment_1</th>\n",
       "      <th>PE_segment_2</th>\n",
       "      <th>PE_segment_4</th>\n",
       "      <th>Elascticity_Promotion</th>\n",
       "      <th>Elasticity_Promotion_0</th>\n",
       "      <th>Brand_5</th>\n",
       "      <th>Brand5_cross_Brand4</th>\n",
       "      <th>Brand 5 S1</th>\n",
       "      <th>Brand_5_Cross_Brand_4_S1</th>\n",
       "      <th>Brand 5 S2</th>\n",
       "      <th>Brand_5_Cross_Brand_4_S2</th>\n",
       "      <th>Brand 5 S3</th>\n",
       "      <th>Brand_5_Cross_Brand_4_S3</th>\n",
       "    </tr>\n",
       "  </thead>\n",
       "  <tbody>\n",
       "    <tr>\n",
       "      <th>0</th>\n",
       "      <td>0.50</td>\n",
       "      <td>-0.096494</td>\n",
       "      <td>-0.167862</td>\n",
       "      <td>-0.117467</td>\n",
       "      <td>-0.221137</td>\n",
       "      <td>-0.125737</td>\n",
       "      <td>-0.195651</td>\n",
       "      <td>-0.049055</td>\n",
       "      <td>0.332011</td>\n",
       "      <td>-0.297335</td>\n",
       "      <td>0.482421</td>\n",
       "      <td>-0.050918</td>\n",
       "      <td>0.197364</td>\n",
       "      <td>-0.000825</td>\n",
       "      <td>0.152366</td>\n",
       "    </tr>\n",
       "    <tr>\n",
       "      <th>1</th>\n",
       "      <td>0.51</td>\n",
       "      <td>-0.100566</td>\n",
       "      <td>-0.172780</td>\n",
       "      <td>-0.121526</td>\n",
       "      <td>-0.227938</td>\n",
       "      <td>-0.129853</td>\n",
       "      <td>-0.201773</td>\n",
       "      <td>-0.050616</td>\n",
       "      <td>0.337287</td>\n",
       "      <td>-0.303382</td>\n",
       "      <td>0.491726</td>\n",
       "      <td>-0.052061</td>\n",
       "      <td>0.199852</td>\n",
       "      <td>-0.000875</td>\n",
       "      <td>0.154416</td>\n",
       "    </tr>\n",
       "    <tr>\n",
       "      <th>2</th>\n",
       "      <td>0.52</td>\n",
       "      <td>-0.104765</td>\n",
       "      <td>-0.177769</td>\n",
       "      <td>-0.125672</td>\n",
       "      <td>-0.234847</td>\n",
       "      <td>-0.134048</td>\n",
       "      <td>-0.207997</td>\n",
       "      <td>-0.052207</td>\n",
       "      <td>0.342507</td>\n",
       "      <td>-0.309438</td>\n",
       "      <td>0.501016</td>\n",
       "      <td>-0.053209</td>\n",
       "      <td>0.202288</td>\n",
       "      <td>-0.000928</td>\n",
       "      <td>0.156429</td>\n",
       "    </tr>\n",
       "    <tr>\n",
       "      <th>3</th>\n",
       "      <td>0.53</td>\n",
       "      <td>-0.109095</td>\n",
       "      <td>-0.182828</td>\n",
       "      <td>-0.129907</td>\n",
       "      <td>-0.241865</td>\n",
       "      <td>-0.138323</td>\n",
       "      <td>-0.214324</td>\n",
       "      <td>-0.053827</td>\n",
       "      <td>0.347668</td>\n",
       "      <td>-0.315505</td>\n",
       "      <td>0.510290</td>\n",
       "      <td>-0.054363</td>\n",
       "      <td>0.204671</td>\n",
       "      <td>-0.000983</td>\n",
       "      <td>0.158406</td>\n",
       "    </tr>\n",
       "    <tr>\n",
       "      <th>4</th>\n",
       "      <td>0.54</td>\n",
       "      <td>-0.113558</td>\n",
       "      <td>-0.187958</td>\n",
       "      <td>-0.134232</td>\n",
       "      <td>-0.248992</td>\n",
       "      <td>-0.142679</td>\n",
       "      <td>-0.220756</td>\n",
       "      <td>-0.055477</td>\n",
       "      <td>0.352773</td>\n",
       "      <td>-0.321584</td>\n",
       "      <td>0.519548</td>\n",
       "      <td>-0.055522</td>\n",
       "      <td>0.207002</td>\n",
       "      <td>-0.001042</td>\n",
       "      <td>0.160346</td>\n",
       "    </tr>\n",
       "  </tbody>\n",
       "</table>\n",
       "</div>"
      ],
      "text/plain": [
       "   Price_Point   Mean_PE  PE_segment_1  PE_segment_2  PE_segment_4  \\\n",
       "0         0.50 -0.096494     -0.167862     -0.117467     -0.221137   \n",
       "1         0.51 -0.100566     -0.172780     -0.121526     -0.227938   \n",
       "2         0.52 -0.104765     -0.177769     -0.125672     -0.234847   \n",
       "3         0.53 -0.109095     -0.182828     -0.129907     -0.241865   \n",
       "4         0.54 -0.113558     -0.187958     -0.134232     -0.248992   \n",
       "\n",
       "   Elascticity_Promotion  Elasticity_Promotion_0   Brand_5  \\\n",
       "0              -0.125737               -0.195651 -0.049055   \n",
       "1              -0.129853               -0.201773 -0.050616   \n",
       "2              -0.134048               -0.207997 -0.052207   \n",
       "3              -0.138323               -0.214324 -0.053827   \n",
       "4              -0.142679               -0.220756 -0.055477   \n",
       "\n",
       "   Brand5_cross_Brand4  Brand 5 S1  Brand_5_Cross_Brand_4_S1  Brand 5 S2  \\\n",
       "0             0.332011   -0.297335                  0.482421   -0.050918   \n",
       "1             0.337287   -0.303382                  0.491726   -0.052061   \n",
       "2             0.342507   -0.309438                  0.501016   -0.053209   \n",
       "3             0.347668   -0.315505                  0.510290   -0.054363   \n",
       "4             0.352773   -0.321584                  0.519548   -0.055522   \n",
       "\n",
       "   Brand_5_Cross_Brand_4_S2  Brand 5 S3  Brand_5_Cross_Brand_4_S3  \n",
       "0                  0.197364   -0.000825                  0.152366  \n",
       "1                  0.199852   -0.000875                  0.154416  \n",
       "2                  0.202288   -0.000928                  0.156429  \n",
       "3                  0.204671   -0.000983                  0.158406  \n",
       "4                  0.207002   -0.001042                  0.160346  "
      ]
     },
     "execution_count": 101,
     "metadata": {},
     "output_type": "execute_result"
    }
   ],
   "source": [
    "# Calculating cross-brand price elasticity for brand 5 with respect to brand 4 for the Well-off segment.\n",
    "df_brand5_cross_brand4_s3 = pd.DataFrame(index = np.arange(price_range.size))\n",
    "df_brand5_cross_brand4_s3['Price_1'] = brand_choice_s3['Price_1'].mean()\n",
    "df_brand5_cross_brand4_s3['Price_2'] = brand_choice_s3['Price_2'].mean()\n",
    "df_brand5_cross_brand4_s3['Price_3'] = brand_choice_s3['Price_3'].mean()\n",
    "df_brand5_cross_brand4_s3['Price_4'] = price_range\n",
    "df_brand5_cross_brand4_s3['Price_5'] = brand_choice_s3['Price_5'].mean()\n",
    "\n",
    "predict_brand5_cross_brand4_s3 = model_brand_choice_s3.predict_proba(df_brand5_cross_brand4_s3)\n",
    "pr_cross_brand_5_s3 = predict_brand5_cross_brand4_s3[: ][: , 3]\n",
    "\n",
    "# Update master data frame to include the newly obtained cross-brand price elasticities.\n",
    "brand5_cross_brand4_price_elasticity_s3 = -beta5 * price_range * pr_cross_brand_5_s3\n",
    "df_price_elasticities['Brand_5_Cross_Brand_4_S3'] = brand5_cross_brand4_price_elasticity_s3\n",
    "pd.options.display.max_rows = None\n",
    "df_price_elasticities.head(5)"
   ]
  },
  {
   "cell_type": "code",
   "execution_count": 102,
   "metadata": {},
   "outputs": [
    {
     "data": {
      "image/png": "[encoded data removed]",
      "text/plain": [
       "<Figure size 1008x288 with 2 Axes>"
      ]
     },
     "metadata": {},
     "output_type": "display_data"
    }
   ],
   "source": [
    "# Using a figure with axes we plot the own brand and cross-brand price elasticities for brand 5 cross brand 4 side by side.\n",
    "fig, axs = plt.subplots(1, 2, figsize = (14, 4))\n",
    "axs[0].plot(price_range, own_price_elasticity_brand_5_s3, color = 'orange')\n",
    "axs[0].set_title('Brand 5 Segment few-opp')\n",
    "axs[0].set_xlabel('Price 5')\n",
    "\n",
    "axs[1].plot(price_range, brand5_cross_brand4_price_elasticity_s3, color = 'orange')\n",
    "axs[1].set_title('Cross Price Elasticity of Brand 5 wrt Brand 4 Segment Few-opp')\n",
    "axs[1].set_xlabel('Price 4')\n",
    "\n",
    "for ax in axs.flat:\n",
    "    ax.set(ylabel = 'Elasticity')"
   ]
  },
  {
   "cell_type": "markdown",
   "metadata": {},
   "source": [
    "## Standard"
   ]
  },
  {
   "cell_type": "code",
   "execution_count": 103,
   "metadata": {},
   "outputs": [],
   "source": [
    "brand_choice_s4 = df_pa[df_pa['Incidence'] == 1]\n",
    "brand_choice_s4 = brand_choice_s4[brand_choice_s4['Segment'] == 0]"
   ]
  },
  {
   "cell_type": "code",
   "execution_count": 104,
   "metadata": {},
   "outputs": [],
   "source": [
    "Y = brand_choice_s4['Brand']\n",
    "brand_choice_s4 = pd.get_dummies(brand_choice_s4, columns=['Brand'], prefix = 'Brand', prefix_sep = '_')\n",
    "X = brand_choice_s4[features]\n",
    "model_brand_choice_s4 = LogisticRegression(solver = 'sag', multi_class = 'multinomial', max_iter = 300)\n",
    "model_brand_choice_s4.fit(X, Y)\n",
    "\n",
    "# Coefficients table for segment 4\n",
    "bc_coef = pd.DataFrame(np.transpose(model_brand_choice_s4.coef_))\n",
    "bc_coef.columns = [coefficients]\n",
    "bc_coef.index = [prices]\n",
    "bc_coef = bc_coef.round(2)"
   ]
  },
  {
   "cell_type": "code",
   "execution_count": 105,
   "metadata": {},
   "outputs": [],
   "source": [
    "df_own_brand_5_s4 = pd.DataFrame(index = np.arange(price_range.size))\n",
    "df_own_brand_5_s4['Price_1'] = brand_choice_s4['Price_1'].mean()\n",
    "df_own_brand_5_s4['Price_2'] = brand_choice_s4['Price_2'].mean()\n",
    "df_own_brand_5_s4['Price_3'] = brand_choice_s4['Price_3'].mean()\n",
    "df_own_brand_5_s4['Price_4'] = brand_choice_s4['Price_4'].mean()\n",
    "df_own_brand_5_s4['Price_5'] = price_range\n",
    "\n",
    "predict_own_brand_5_s4 = model_brand_choice_s4.predict_proba(df_own_brand_5_s4)\n",
    "pr_own_brand_5_s4= predict_own_brand_5_s4[: ][: , 4]\n",
    "\n",
    "own_price_elasticity_brand_5_s4 =  beta5 * price_range * (1 - pr_own_brand_5_s4)\n",
    "df_price_elasticities['Brand 5 S4'] = own_price_elasticity_brand_5_s4"
   ]
  },
  {
   "cell_type": "code",
   "execution_count": 106,
   "metadata": {},
   "outputs": [],
   "source": [
    "# Calculating cross-brand price elasticity for brand 5 with respect to brand 4 for the Well-off segment.\n",
    "df_brand5_cross_brand4_s4 = pd.DataFrame(index = np.arange(price_range.size))\n",
    "df_brand5_cross_brand4_s4['Price_1'] = brand_choice_s4['Price_1'].mean()\n",
    "df_brand5_cross_brand4_s4['Price_2'] = brand_choice_s4['Price_2'].mean()\n",
    "df_brand5_cross_brand4_s4['Price_3'] = brand_choice_s4['Price_3'].mean()\n",
    "df_brand5_cross_brand4_s4['Price_4'] = price_range\n",
    "df_brand5_cross_brand4_s4['Price_5'] = brand_choice_s4['Price_5'].mean()\n",
    "\n",
    "predict_brand5_cross_brand4_s4 = model_brand_choice_s4.predict_proba(df_brand5_cross_brand4_s4)\n",
    "pr_cross_brand_5_s4 = predict_brand5_cross_brand4_s4[: ][: , 3]\n",
    "\n",
    "# Update master data frame to include the newly obtained cross-brand price elasticities.\n",
    "brand5_cross_brand4_price_elasticity_s4 = -beta5 * price_range * pr_cross_brand_5_s4\n",
    "df_price_elasticities['Brand_5_Cross_Brand_4_S4'] = brand5_cross_brand4_price_elasticity_s4"
   ]
  },
  {
   "cell_type": "code",
   "execution_count": 107,
   "metadata": {},
   "outputs": [
    {
     "data": {
      "image/png": "[encoded data removed]",
      "text/plain": [
       "<Figure size 1008x288 with 2 Axes>"
      ]
     },
     "metadata": {},
     "output_type": "display_data"
    }
   ],
   "source": [
    "fig, axs = plt.subplots(1, 2, figsize = (14, 4))\n",
    "axs[0].plot(price_range, own_price_elasticity_brand_5_s4, color = 'red')\n",
    "axs[0].set_title('Brand 5 Segment Standard')\n",
    "axs[0].set_xlabel('Price 5')\n",
    "\n",
    "axs[1].plot(price_range, brand5_cross_brand4_price_elasticity_s4, color = 'red')\n",
    "axs[1].set_title('Cross Price Elasticity of Brand 5 wrt Brand 4 Segment Standard')\n",
    "axs[1].set_xlabel('Price 4')\n",
    "\n",
    "for ax in axs.flat:\n",
    "    ax.set(ylabel = 'Elasticity')"
   ]
  },
  {
   "cell_type": "code",
   "execution_count": 108,
   "metadata": {},
   "outputs": [
    {
     "data": {
      "text/plain": [
       "Text(0.5, 0, 'Price 4')"
      ]
     },
     "execution_count": 108,
     "metadata": {},
     "output_type": "execute_result"
    },
    {
     "data": {
      "image/png": "[encoded data removed]",
      "text/plain": [
       "<Figure size 792x648 with 10 Axes>"
      ]
     },
     "metadata": {},
     "output_type": "display_data"
    }
   ],
   "source": [
    "fig1, (ax1, ax2, ax3, ax4, ax5) = plt.subplots(5, 2, figsize = (11, 9), sharex = True)\n",
    "ax1[0].plot(price_range, own_price_elasticity_brand_5, 'tab:grey')\n",
    "ax1[0].set_title('Brand 5 Average Customer')\n",
    "ax1[0].set_ylabel('Elasticity')\n",
    "ax1[1].plot(price_range, brand5_cross_brand4_price_elasticity, 'tab:grey')\n",
    "ax1[1].set_title('Cross Brand 4 Average Customer')\n",
    "\n",
    "\n",
    "ax2[0].plot(price_range, own_price_elasticity_brand_5_s4)\n",
    "ax2[0].set_title('Brand 5 Segment Standard')\n",
    "ax2[0].set_ylabel('Elasticity')\n",
    "ax2[1].plot(price_range, brand5_cross_brand4_price_elasticity_s4)\n",
    "ax2[1].set_title('Cross Brand 4 Segment Standard')\n",
    "\n",
    "ax3[0].plot(price_range, own_price_elasticity_brand_5_s1, 'tab:green')\n",
    "ax3[0].set_title('Brand 5 Segment Well Off')\n",
    "ax3[0].set_ylabel('Elasticity')\n",
    "ax3[1].plot(price_range, brand5_cross_brand4_price_elasticity_s1, 'tab:green')\n",
    "ax3[1].set_title('Cross Brand 4 Segment Well Off')\n",
    "\n",
    "ax4[0].plot(price_range, own_price_elasticity_brand_5_s2, 'tab:red')\n",
    "ax4[0].set_title('Brand 5 Segment Career Focused')\n",
    "ax4[0].set_ylabel('Elasticity')\n",
    "ax4[1].plot(price_range, brand5_cross_brand4_price_elasticity_s2, 'tab:red')\n",
    "ax4[1].set_title('Cross Brand 4 Segment Career Focused')\n",
    "\n",
    "ax5[0].plot(price_range, own_price_elasticity_brand_5_s3, 'tab:orange')\n",
    "ax5[0].set_title('Brand 5 Segment Fewer-Opportunities')\n",
    "ax5[0].set_xlabel('Price 5')\n",
    "ax5[0].set_ylabel('Elasticity')\n",
    "ax5[1].plot(price_range, brand5_cross_brand4_price_elasticity_s3, 'tab:orange')\n",
    "ax5[1].set_title('Cross Brand 4 Segment Fewer-Opportunities')\n",
    "ax5[1].set_xlabel('Price 4')"
   ]
  }
 ],
 "metadata": {
  "kernelspec": {
   "display_name": "Python 3",
   "language": "python",
   "name": "python3"
  },
  "language_info": {
   "codemirror_mode": {
    "name": "ipython",
    "version": 3
   },
   "file_extension": ".py",
   "mimetype": "text/x-python",
   "name": "python",
   "nbconvert_exporter": "python",
   "pygments_lexer": "ipython3",
   "version": "3.8.3"
  }
 },
 "nbformat": 4,
 "nbformat_minor": 4
}
